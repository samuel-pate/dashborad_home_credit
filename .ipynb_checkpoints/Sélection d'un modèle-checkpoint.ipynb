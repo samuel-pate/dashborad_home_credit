{
 "cells": [
  {
   "cell_type": "code",
   "execution_count": 1,
   "metadata": {},
   "outputs": [
    {
     "name": "stdout",
     "output_type": "stream",
     "text": [
      "1.1.3\n",
      "1.19.4\n",
      "0.11.0\n",
      "3.3.2\n",
      "0.23.2\n"
     ]
    }
   ],
   "source": [
    "import pandas as pd\n",
    "import numpy as np\n",
    "import gc\n",
    "import lightgbm as lgb\n",
    "import seaborn as sns\n",
    "import matplotlib\n",
    "import matplotlib.pyplot as plt\n",
    "import sklearn\n",
    "from sklearn import model_selection, dummy, metrics\n",
    "import pickle\n",
    "\n",
    "print(pd.__version__) #1.1.3\n",
    "print(np.__version__) #1.19.4\n",
    "print(sns.__version__) #0.11.0\n",
    "print(matplotlib.__version__) # 3.3.2\n",
    "print(sklearn.__version__) # 0.23.2"
   ]
  },
  {
   "cell_type": "markdown",
   "metadata": {},
   "source": [
    "# Récupération des données"
   ]
  },
  {
   "cell_type": "code",
   "execution_count": 2,
   "metadata": {},
   "outputs": [],
   "source": [
    "data = pd.read_csv(\"data/train_df.csv\", index_col=\"index\")\n",
    "cat_features = pickle.load(open(\"pickle_cat_features.pkl\", \"rb\"))"
   ]
  },
  {
   "cell_type": "markdown",
   "metadata": {},
   "source": [
    "# Isolation de la cible et séparation des données (train, test)"
   ]
  },
  {
   "cell_type": "code",
   "execution_count": 3,
   "metadata": {},
   "outputs": [
    {
     "data": {
      "text/plain": [
       "20"
      ]
     },
     "execution_count": 3,
     "metadata": {},
     "output_type": "execute_result"
    }
   ],
   "source": [
    "X = data.drop(columns=['TARGET','SK_ID_CURR'])\n",
    "y = data[\"TARGET\"]\n",
    "cat_features_index = np.where(X.columns.isin(cat_features))\n",
    "\n",
    "del data\n",
    "gc.collect()"
   ]
  },
  {
   "cell_type": "code",
   "execution_count": 9,
   "metadata": {},
   "outputs": [
    {
     "data": {
      "text/plain": [
       "[0, 1, 2, 3, 9, 10, 11, 12, 13, 26, 30, 38, 84, 85, 87, 88, 120]"
      ]
     },
     "execution_count": 9,
     "metadata": {},
     "output_type": "execute_result"
    }
   ],
   "source": [
    "list(cat_features_index[0])"
   ]
  },
  {
   "cell_type": "code",
   "execution_count": 10,
   "metadata": {},
   "outputs": [
    {
     "name": "stdout",
     "output_type": "stream",
     "text": [
      "X_train : (246005, 676)\n",
      "X_test : (61502, 676)\n",
      "y_train : (246005,)\n",
      "y_test : (61502,)\n"
     ]
    },
    {
     "data": {
      "text/plain": [
       "3808"
      ]
     },
     "execution_count": 10,
     "metadata": {},
     "output_type": "execute_result"
    }
   ],
   "source": [
    "X_train, X_test, y_train, y_test = model_selection.train_test_split(X, y, test_size=0.2, random_state=123)\n",
    "\n",
    "print(f\"X_train : {X_train.shape}\")\n",
    "print(f\"X_test : {X_test.shape}\")\n",
    "print(f\"y_train : {y_train.shape}\")\n",
    "print(f\"y_test : {y_test.shape}\")\n",
    "\n",
    "del X, y\n",
    "gc.collect()"
   ]
  },
  {
   "cell_type": "markdown",
   "metadata": {},
   "source": [
    "# Etablissement d'une baseline"
   ]
  },
  {
   "cell_type": "code",
   "execution_count": 11,
   "metadata": {},
   "outputs": [
    {
     "data": {
      "text/plain": [
       "DummyClassifier(random_state=123, strategy='stratified')"
      ]
     },
     "execution_count": 11,
     "metadata": {},
     "output_type": "execute_result"
    }
   ],
   "source": [
    "# dummy classifier \n",
    "dummy_classifier = dummy.DummyClassifier(strategy=\"stratified\", random_state=123)\n",
    "dummy_classifier.fit(X_train,y_train)"
   ]
  },
  {
   "cell_type": "code",
   "execution_count": 12,
   "metadata": {},
   "outputs": [
    {
     "name": "stdout",
     "output_type": "stream",
     "text": [
      "Baseline AUCPR par dummy classifier  : 0.11880592645594451\n"
     ]
    },
    {
     "data": {
      "text/plain": [
       "40"
      ]
     },
     "execution_count": 12,
     "metadata": {},
     "output_type": "execute_result"
    }
   ],
   "source": [
    "# performances\n",
    "probas_pred = dummy_classifier.predict_proba(X_test)[:, 1]\n",
    "p, r, _ = metrics.precision_recall_curve(y_test, probas_pred)\n",
    "baseline = metrics.auc(r,p)\n",
    "print(f\"Baseline AUCPR par dummy classifier  : {baseline}\")\n",
    "\n",
    "del dummy_classifier\n",
    "gc.collect()"
   ]
  },
  {
   "cell_type": "markdown",
   "metadata": {},
   "source": [
    "# Entraînement d'un classifieur LightGBM sur le train set sur 5 folds (5 classifieurs)"
   ]
  },
  {
   "cell_type": "code",
   "execution_count": 13,
   "metadata": {},
   "outputs": [],
   "source": [
    "# rectification des noms des features pour le classifieur LGBM\n",
    "\n",
    "def replace_name(name):\n",
    "    for c in [\"[\",\"]\",\",\",\"{\",\"}\",'\"',\":\",\" \"]:\n",
    "        if c in name :\n",
    "            name = name.replace(c,\"_\")\n",
    "    return name\n",
    "            \n",
    "features = list(map(replace_name, X_train.columns))\n",
    "X_train.columns = features\n",
    "X_test.columns = features"
   ]
  },
  {
   "cell_type": "code",
   "execution_count": 14,
   "metadata": {},
   "outputs": [],
   "source": [
    "# métrique LGBM personnalisée utilisant l'aire sous la courbe precision-recall (AUCPR)\n",
    "\n",
    "def f_aucpr(y_true, probas_pred):\n",
    "    \n",
    "    p, r, _ = metrics.precision_recall_curve(y_true, probas_pred)\n",
    "    score = metrics.auc(r,p)\n",
    "    return \"AUCPR\", score, True"
   ]
  },
  {
   "cell_type": "code",
   "execution_count": null,
   "metadata": {},
   "outputs": [
    {
     "name": "stderr",
     "output_type": "stream",
     "text": [
      "/home/samuel/.local/lib/python3.8/site-packages/lightgbm/basic.py:1075: UserWarning: categorical_feature keyword has been found in `params` and will be ignored.\n",
      "Please use categorical_feature argument of the Dataset constructor to pass this parameter.\n",
      "  warnings.warn('{0} keyword has been found in `params` and will be ignored.\\n'\n"
     ]
    },
    {
     "name": "stdout",
     "output_type": "stream",
     "text": [
      "Training until validation scores don't improve for 200 rounds\n",
      "[200]\ttraining's binary_logloss: 0.241213\ttraining's AUCPR: 0.302481\tvalid_1's binary_logloss: 0.245612\tvalid_1's AUCPR: 0.264616\n",
      "[400]\ttraining's binary_logloss: 0.230647\ttraining's AUCPR: 0.33594\tvalid_1's binary_logloss: 0.23904\tvalid_1's AUCPR: 0.279485\n",
      "[600]\ttraining's binary_logloss: 0.224771\ttraining's AUCPR: 0.361489\tvalid_1's binary_logloss: 0.236785\tvalid_1's AUCPR: 0.286548\n"
     ]
    }
   ],
   "source": [
    "# modèle de cross validation pour entraînement par fold\n",
    "folds = model_selection.StratifiedKFold(n_splits= 5, shuffle=True, random_state=123)\n",
    "\n",
    "# création des dataframes pour stocker les résultats\n",
    "oof_preds = np.zeros(X_train.shape[0])\n",
    "sub_preds = np.zeros(X_test.shape[0])\n",
    "feature_importance_df = pd.DataFrame()\n",
    "\n",
    "for n_fold, (train_idx, valid_idx) in enumerate(folds.split(X_train, y_train)):\n",
    "    train_x, train_y = X_train.iloc[train_idx], y_train.iloc[train_idx]\n",
    "    valid_x, valid_y = X_train.iloc[valid_idx], y_train.iloc[valid_idx]\n",
    "\n",
    "    # paramètres déterminés par optimisation Bayésienne\n",
    "    clf = lgb.LGBMClassifier(\n",
    "        n_jobs=-1,\n",
    "        n_estimators=10000,\n",
    "        learning_rate=0.02,\n",
    "        num_leaves=37,\n",
    "        colsample_bytree=0.1626780977682063,\n",
    "        subsample=0.9061817454792065,\n",
    "        max_depth=5,\n",
    "        reg_alpha=0.8515028010996651,\n",
    "        reg_lambda=0.5421869781111216,\n",
    "        min_split_gain=0.021063972265591233,\n",
    "        min_child_weight=29.09287622047518,\n",
    "        silent=-1,\n",
    "        verbose=-1,\n",
    "        random_state=123,\n",
    "        categorical_feature=list(cat_features_index[0]))\n",
    "    \n",
    "    \n",
    "    # entraînement de chaque fold\n",
    "    clf.fit(train_x, train_y, eval_set=[(train_x, train_y), (valid_x, valid_y)], \n",
    "        eval_metric=f_aucpr, verbose= 200, early_stopping_rounds= 200)\n",
    "\n",
    "    # stockage des prédictions\n",
    "    oof_preds[valid_idx] = clf.predict_proba(valid_x, num_iteration=clf.best_iteration_)[:, 1]\n",
    "    sub_preds += clf.predict_proba(X_test, num_iteration=clf.best_iteration_)[:, 1] / folds.n_splits\n",
    "    \n",
    "    # stockage des features importances\n",
    "    fold_importance_df = pd.DataFrame()\n",
    "    fold_importance_df[\"feature\"] = X_train.columns\n",
    "    fold_importance_df[\"importance\"] = clf.feature_importances_\n",
    "    fold_importance_df[\"fold\"] = n_fold + 1\n",
    "    feature_importance_df = pd.concat([feature_importance_df, fold_importance_df], axis=0)\n",
    "    _, score, _ = f_aucpr(valid_y, oof_preds[valid_idx])\n",
    "    print('Fold %2d AUCPR : %.6f' % (n_fold + 1, score))\n",
    "    del clf, train_x, train_y, valid_x, valid_y\n",
    "    gc.collect()\n"
   ]
  },
  {
   "cell_type": "code",
   "execution_count": null,
   "metadata": {},
   "outputs": [],
   "source": [
    "# affichage des performances\n",
    "\n",
    "_, train_score, _ = f_aucpr(y_train, oof_preds)\n",
    "_, test_score, _ = f_aucpr(y_test, sub_preds)\n",
    "print(f\"AUCPR sur train set  : {train_score}\")\n",
    "print(f\"AUCPR sur test set : {test_score}\")"
   ]
  },
  {
   "cell_type": "code",
   "execution_count": null,
   "metadata": {},
   "outputs": [],
   "source": [
    "# affichage de l'importance des features\n",
    "\n",
    "cols = feature_importance_df[[\"feature\", \"importance\"]].groupby(\"feature\").mean()\\\n",
    "                    .sort_values(by=\"importance\", ascending=False)[:40].index\n",
    "best_features = feature_importance_df.loc[feature_importance_df.feature.isin(cols)]\n",
    "plt.figure(figsize=(8, 10))\n",
    "sns.barplot(x=\"importance\", y=\"feature\", data=best_features.sort_values(by=\"importance\", ascending=False))\n",
    "plt.title('LightGBM Features (avg over folds)')\n",
    "plt.tight_layout()\n",
    "plt.savefig('img/lgbm_importances01.png')"
   ]
  },
  {
   "cell_type": "markdown",
   "metadata": {},
   "source": [
    "# Entraînement d'un LGBM Classifier unique sur le train set"
   ]
  },
  {
   "cell_type": "code",
   "execution_count": null,
   "metadata": {},
   "outputs": [],
   "source": [
    "# création d'un set de validation\n",
    "\n",
    "train_x, valid_x, train_y, valid_y = model_selection.train_test_split(X_train, y_train, test_size=0.2, \n",
    "                                                                      random_state=123)"
   ]
  },
  {
   "cell_type": "code",
   "execution_count": null,
   "metadata": {},
   "outputs": [],
   "source": [
    "# modèle avec les mêmes paramètres\n",
    "\n",
    "clf = lgb.LGBMClassifier(\n",
    "        n_jobs=-1,\n",
    "        n_estimators=10000,        \n",
    "        learning_rate=0.02,\n",
    "        num_leaves=37,\n",
    "        colsample_bytree=0.1626780977682063,\n",
    "        subsample=0.9061817454792065,\n",
    "        max_depth=5,\n",
    "        reg_alpha=0.8515028010996651,\n",
    "        reg_lambda=0.5421869781111216,\n",
    "        min_split_gain=0.021063972265591233,\n",
    "        min_child_weight=29.09287622047518,\n",
    "        silent=-1,\n",
    "        verbose=-1,\n",
    "        random_state=123,\n",
    "        categorical_feature=list(cat_features_index[0]))\n",
    "\n",
    "# entraînement\n",
    "clf.fit(train_x, train_y, eval_set=[(train_x, train_y), (valid_x, valid_y)], \n",
    "    eval_metric=f_aucpr, verbose= 200, early_stopping_rounds= 200)"
   ]
  },
  {
   "cell_type": "code",
   "execution_count": null,
   "metadata": {},
   "outputs": [],
   "source": [
    "# performances\n",
    "\n",
    "y_pred = clf.predict_proba(X_test, num_iteration=clf.best_iteration_)[:, 1]\n",
    "f_aucpr(y_test, y_pred)"
   ]
  },
  {
   "cell_type": "code",
   "execution_count": null,
   "metadata": {},
   "outputs": [],
   "source": [
    "# features importances\n",
    "\n",
    "feature_importance_df = pd.DataFrame()\n",
    "feature_importance_df[\"feature\"] = X_train.columns\n",
    "feature_importance_df[\"importance\"] = clf.feature_importances_\n",
    "best_features_idx = feature_importance_df.sort_values(by=\"importance\", ascending=False)[:40].index\n",
    "plt.figure(figsize=(8, 10))\n",
    "sns.barplot(x=\"importance\", y=\"feature\", data=feature_importance_df.iloc[best_features_idx].sort_values(by=\"importance\", ascending=False))\n",
    "plt.title('LightGBM Features')\n",
    "plt.tight_layout()"
   ]
  },
  {
   "cell_type": "markdown",
   "metadata": {},
   "source": [
    "Les performances sont à peine moins bonnes, je garde donc ce principe d'un classifieur unique.\n"
   ]
  },
  {
   "cell_type": "code",
   "execution_count": null,
   "metadata": {},
   "outputs": [],
   "source": [
    "# AUROC du modèle\n",
    "\n",
    "print(metrics.roc_auc_score(y_test, y_pred))\n"
   ]
  },
  {
   "cell_type": "code",
   "execution_count": null,
   "metadata": {},
   "outputs": [],
   "source": [
    "# recherche du seuil optimisant le f1-score\n",
    "\n",
    "for thres in np.linspace(0.1,0.19,10):\n",
    "    y_pred_label = [0 if i<=thres else 1 for i in y_pred]\n",
    "    score = metrics.f1_score(y_test,y_pred_label)\n",
    "    print(f\"Seuil {thres} f1-score {score}\")"
   ]
  },
  {
   "cell_type": "code",
   "execution_count": null,
   "metadata": {},
   "outputs": [],
   "source": [
    "# rapport de performances \n",
    "\n",
    "thres = 0.15\n",
    "y_pred_label = [0 if i<=thres else 1 for i in y_pred]\n",
    "print(metrics.classification_report(y_test, y_pred_label, digits=4))\n",
    "print(metrics.confusion_matrix(y_test, y_pred_label))"
   ]
  },
  {
   "cell_type": "code",
   "execution_count": null,
   "metadata": {},
   "outputs": [],
   "source": []
  }
 ],
 "metadata": {
  "kernelspec": {
   "display_name": "Python 3",
   "language": "python",
   "name": "python3"
  },
  "language_info": {
   "codemirror_mode": {
    "name": "ipython",
    "version": 3
   },
   "file_extension": ".py",
   "mimetype": "text/x-python",
   "name": "python",
   "nbconvert_exporter": "python",
   "pygments_lexer": "ipython3",
   "version": "3.8.5"
  }
 },
 "nbformat": 4,
 "nbformat_minor": 4
}
