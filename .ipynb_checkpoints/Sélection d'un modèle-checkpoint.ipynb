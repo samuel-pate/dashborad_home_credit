{
 "cells": [
  {
   "cell_type": "code",
   "execution_count": 1,
   "metadata": {},
   "outputs": [
    {
     "name": "stdout",
     "output_type": "stream",
     "text": [
      "1.1.3\n",
      "1.19.4\n",
      "0.11.0\n",
      "3.3.2\n",
      "0.23.2\n"
     ]
    }
   ],
   "source": [
    "import pandas as pd\n",
    "import numpy as np\n",
    "import gc\n",
    "import lightgbm as lgb\n",
    "import seaborn as sns\n",
    "import matplotlib\n",
    "import matplotlib.pyplot as plt\n",
    "import sklearn\n",
    "from sklearn import model_selection, dummy, metrics\n",
    "\n",
    "print(pd.__version__) #1.1.3\n",
    "print(np.__version__) #1.19.4\n",
    "print(sns.__version__) #0.11.0\n",
    "print(matplotlib.__version__) # 3.3.2\n",
    "print(sklearn.__version__) # 0.23.2"
   ]
  },
  {
   "cell_type": "markdown",
   "metadata": {},
   "source": [
    "# Récupération des données"
   ]
  },
  {
   "cell_type": "code",
   "execution_count": 2,
   "metadata": {},
   "outputs": [
    {
     "data": {
      "text/html": [
       "<div>\n",
       "<style scoped>\n",
       "    .dataframe tbody tr th:only-of-type {\n",
       "        vertical-align: middle;\n",
       "    }\n",
       "\n",
       "    .dataframe tbody tr th {\n",
       "        vertical-align: top;\n",
       "    }\n",
       "\n",
       "    .dataframe thead th {\n",
       "        text-align: right;\n",
       "    }\n",
       "</style>\n",
       "<table border=\"1\" class=\"dataframe\">\n",
       "  <thead>\n",
       "    <tr style=\"text-align: right;\">\n",
       "      <th></th>\n",
       "      <th>Unnamed: 0</th>\n",
       "      <th>index</th>\n",
       "      <th>SK_ID_CURR</th>\n",
       "      <th>TARGET</th>\n",
       "      <th>CODE_GENDER</th>\n",
       "      <th>FLAG_OWN_CAR</th>\n",
       "      <th>FLAG_OWN_REALTY</th>\n",
       "      <th>CNT_CHILDREN</th>\n",
       "      <th>AMT_INCOME_TOTAL</th>\n",
       "      <th>AMT_CREDIT</th>\n",
       "      <th>...</th>\n",
       "      <th>CC_NAME_CONTRACT_STATUS_Signed_MAX</th>\n",
       "      <th>CC_NAME_CONTRACT_STATUS_Signed_MEAN</th>\n",
       "      <th>CC_NAME_CONTRACT_STATUS_Signed_SUM</th>\n",
       "      <th>CC_NAME_CONTRACT_STATUS_Signed_VAR</th>\n",
       "      <th>CC_NAME_CONTRACT_STATUS_nan_MIN</th>\n",
       "      <th>CC_NAME_CONTRACT_STATUS_nan_MAX</th>\n",
       "      <th>CC_NAME_CONTRACT_STATUS_nan_MEAN</th>\n",
       "      <th>CC_NAME_CONTRACT_STATUS_nan_SUM</th>\n",
       "      <th>CC_NAME_CONTRACT_STATUS_nan_VAR</th>\n",
       "      <th>CC_COUNT</th>\n",
       "    </tr>\n",
       "  </thead>\n",
       "  <tbody>\n",
       "    <tr>\n",
       "      <th>0</th>\n",
       "      <td>0</td>\n",
       "      <td>0</td>\n",
       "      <td>100002</td>\n",
       "      <td>1.0</td>\n",
       "      <td>0</td>\n",
       "      <td>0</td>\n",
       "      <td>0</td>\n",
       "      <td>0</td>\n",
       "      <td>202500.0</td>\n",
       "      <td>406597.5</td>\n",
       "      <td>...</td>\n",
       "      <td>NaN</td>\n",
       "      <td>NaN</td>\n",
       "      <td>NaN</td>\n",
       "      <td>NaN</td>\n",
       "      <td>NaN</td>\n",
       "      <td>NaN</td>\n",
       "      <td>NaN</td>\n",
       "      <td>NaN</td>\n",
       "      <td>NaN</td>\n",
       "      <td>NaN</td>\n",
       "    </tr>\n",
       "    <tr>\n",
       "      <th>1</th>\n",
       "      <td>1</td>\n",
       "      <td>1</td>\n",
       "      <td>100003</td>\n",
       "      <td>0.0</td>\n",
       "      <td>1</td>\n",
       "      <td>0</td>\n",
       "      <td>1</td>\n",
       "      <td>0</td>\n",
       "      <td>270000.0</td>\n",
       "      <td>1293502.5</td>\n",
       "      <td>...</td>\n",
       "      <td>NaN</td>\n",
       "      <td>NaN</td>\n",
       "      <td>NaN</td>\n",
       "      <td>NaN</td>\n",
       "      <td>NaN</td>\n",
       "      <td>NaN</td>\n",
       "      <td>NaN</td>\n",
       "      <td>NaN</td>\n",
       "      <td>NaN</td>\n",
       "      <td>NaN</td>\n",
       "    </tr>\n",
       "    <tr>\n",
       "      <th>2</th>\n",
       "      <td>2</td>\n",
       "      <td>2</td>\n",
       "      <td>100004</td>\n",
       "      <td>0.0</td>\n",
       "      <td>0</td>\n",
       "      <td>1</td>\n",
       "      <td>0</td>\n",
       "      <td>0</td>\n",
       "      <td>67500.0</td>\n",
       "      <td>135000.0</td>\n",
       "      <td>...</td>\n",
       "      <td>NaN</td>\n",
       "      <td>NaN</td>\n",
       "      <td>NaN</td>\n",
       "      <td>NaN</td>\n",
       "      <td>NaN</td>\n",
       "      <td>NaN</td>\n",
       "      <td>NaN</td>\n",
       "      <td>NaN</td>\n",
       "      <td>NaN</td>\n",
       "      <td>NaN</td>\n",
       "    </tr>\n",
       "    <tr>\n",
       "      <th>3</th>\n",
       "      <td>3</td>\n",
       "      <td>3</td>\n",
       "      <td>100006</td>\n",
       "      <td>0.0</td>\n",
       "      <td>1</td>\n",
       "      <td>0</td>\n",
       "      <td>0</td>\n",
       "      <td>0</td>\n",
       "      <td>135000.0</td>\n",
       "      <td>312682.5</td>\n",
       "      <td>...</td>\n",
       "      <td>0.0</td>\n",
       "      <td>0.0</td>\n",
       "      <td>0.0</td>\n",
       "      <td>0.0</td>\n",
       "      <td>0.0</td>\n",
       "      <td>0.0</td>\n",
       "      <td>0.0</td>\n",
       "      <td>0.0</td>\n",
       "      <td>0.0</td>\n",
       "      <td>6.0</td>\n",
       "    </tr>\n",
       "    <tr>\n",
       "      <th>4</th>\n",
       "      <td>4</td>\n",
       "      <td>4</td>\n",
       "      <td>100007</td>\n",
       "      <td>0.0</td>\n",
       "      <td>0</td>\n",
       "      <td>0</td>\n",
       "      <td>0</td>\n",
       "      <td>0</td>\n",
       "      <td>121500.0</td>\n",
       "      <td>513000.0</td>\n",
       "      <td>...</td>\n",
       "      <td>NaN</td>\n",
       "      <td>NaN</td>\n",
       "      <td>NaN</td>\n",
       "      <td>NaN</td>\n",
       "      <td>NaN</td>\n",
       "      <td>NaN</td>\n",
       "      <td>NaN</td>\n",
       "      <td>NaN</td>\n",
       "      <td>NaN</td>\n",
       "      <td>NaN</td>\n",
       "    </tr>\n",
       "    <tr>\n",
       "      <th>...</th>\n",
       "      <td>...</td>\n",
       "      <td>...</td>\n",
       "      <td>...</td>\n",
       "      <td>...</td>\n",
       "      <td>...</td>\n",
       "      <td>...</td>\n",
       "      <td>...</td>\n",
       "      <td>...</td>\n",
       "      <td>...</td>\n",
       "      <td>...</td>\n",
       "      <td>...</td>\n",
       "      <td>...</td>\n",
       "      <td>...</td>\n",
       "      <td>...</td>\n",
       "      <td>...</td>\n",
       "      <td>...</td>\n",
       "      <td>...</td>\n",
       "      <td>...</td>\n",
       "      <td>...</td>\n",
       "      <td>...</td>\n",
       "      <td>...</td>\n",
       "    </tr>\n",
       "    <tr>\n",
       "      <th>307502</th>\n",
       "      <td>307502</td>\n",
       "      <td>307506</td>\n",
       "      <td>456251</td>\n",
       "      <td>0.0</td>\n",
       "      <td>0</td>\n",
       "      <td>0</td>\n",
       "      <td>1</td>\n",
       "      <td>0</td>\n",
       "      <td>157500.0</td>\n",
       "      <td>254700.0</td>\n",
       "      <td>...</td>\n",
       "      <td>NaN</td>\n",
       "      <td>NaN</td>\n",
       "      <td>NaN</td>\n",
       "      <td>NaN</td>\n",
       "      <td>NaN</td>\n",
       "      <td>NaN</td>\n",
       "      <td>NaN</td>\n",
       "      <td>NaN</td>\n",
       "      <td>NaN</td>\n",
       "      <td>NaN</td>\n",
       "    </tr>\n",
       "    <tr>\n",
       "      <th>307503</th>\n",
       "      <td>307503</td>\n",
       "      <td>307507</td>\n",
       "      <td>456252</td>\n",
       "      <td>0.0</td>\n",
       "      <td>1</td>\n",
       "      <td>0</td>\n",
       "      <td>0</td>\n",
       "      <td>0</td>\n",
       "      <td>72000.0</td>\n",
       "      <td>269550.0</td>\n",
       "      <td>...</td>\n",
       "      <td>NaN</td>\n",
       "      <td>NaN</td>\n",
       "      <td>NaN</td>\n",
       "      <td>NaN</td>\n",
       "      <td>NaN</td>\n",
       "      <td>NaN</td>\n",
       "      <td>NaN</td>\n",
       "      <td>NaN</td>\n",
       "      <td>NaN</td>\n",
       "      <td>NaN</td>\n",
       "    </tr>\n",
       "    <tr>\n",
       "      <th>307504</th>\n",
       "      <td>307504</td>\n",
       "      <td>307508</td>\n",
       "      <td>456253</td>\n",
       "      <td>0.0</td>\n",
       "      <td>1</td>\n",
       "      <td>0</td>\n",
       "      <td>0</td>\n",
       "      <td>0</td>\n",
       "      <td>153000.0</td>\n",
       "      <td>677664.0</td>\n",
       "      <td>...</td>\n",
       "      <td>NaN</td>\n",
       "      <td>NaN</td>\n",
       "      <td>NaN</td>\n",
       "      <td>NaN</td>\n",
       "      <td>NaN</td>\n",
       "      <td>NaN</td>\n",
       "      <td>NaN</td>\n",
       "      <td>NaN</td>\n",
       "      <td>NaN</td>\n",
       "      <td>NaN</td>\n",
       "    </tr>\n",
       "    <tr>\n",
       "      <th>307505</th>\n",
       "      <td>307505</td>\n",
       "      <td>307509</td>\n",
       "      <td>456254</td>\n",
       "      <td>1.0</td>\n",
       "      <td>1</td>\n",
       "      <td>0</td>\n",
       "      <td>0</td>\n",
       "      <td>0</td>\n",
       "      <td>171000.0</td>\n",
       "      <td>370107.0</td>\n",
       "      <td>...</td>\n",
       "      <td>NaN</td>\n",
       "      <td>NaN</td>\n",
       "      <td>NaN</td>\n",
       "      <td>NaN</td>\n",
       "      <td>NaN</td>\n",
       "      <td>NaN</td>\n",
       "      <td>NaN</td>\n",
       "      <td>NaN</td>\n",
       "      <td>NaN</td>\n",
       "      <td>NaN</td>\n",
       "    </tr>\n",
       "    <tr>\n",
       "      <th>307506</th>\n",
       "      <td>307506</td>\n",
       "      <td>307510</td>\n",
       "      <td>456255</td>\n",
       "      <td>0.0</td>\n",
       "      <td>1</td>\n",
       "      <td>0</td>\n",
       "      <td>1</td>\n",
       "      <td>0</td>\n",
       "      <td>157500.0</td>\n",
       "      <td>675000.0</td>\n",
       "      <td>...</td>\n",
       "      <td>NaN</td>\n",
       "      <td>NaN</td>\n",
       "      <td>NaN</td>\n",
       "      <td>NaN</td>\n",
       "      <td>NaN</td>\n",
       "      <td>NaN</td>\n",
       "      <td>NaN</td>\n",
       "      <td>NaN</td>\n",
       "      <td>NaN</td>\n",
       "      <td>NaN</td>\n",
       "    </tr>\n",
       "  </tbody>\n",
       "</table>\n",
       "<p>307507 rows × 800 columns</p>\n",
       "</div>"
      ],
      "text/plain": [
       "        Unnamed: 0   index  SK_ID_CURR  TARGET  CODE_GENDER  FLAG_OWN_CAR  \\\n",
       "0                0       0      100002     1.0            0             0   \n",
       "1                1       1      100003     0.0            1             0   \n",
       "2                2       2      100004     0.0            0             1   \n",
       "3                3       3      100006     0.0            1             0   \n",
       "4                4       4      100007     0.0            0             0   \n",
       "...            ...     ...         ...     ...          ...           ...   \n",
       "307502      307502  307506      456251     0.0            0             0   \n",
       "307503      307503  307507      456252     0.0            1             0   \n",
       "307504      307504  307508      456253     0.0            1             0   \n",
       "307505      307505  307509      456254     1.0            1             0   \n",
       "307506      307506  307510      456255     0.0            1             0   \n",
       "\n",
       "        FLAG_OWN_REALTY  CNT_CHILDREN  AMT_INCOME_TOTAL  AMT_CREDIT  ...  \\\n",
       "0                     0             0          202500.0    406597.5  ...   \n",
       "1                     1             0          270000.0   1293502.5  ...   \n",
       "2                     0             0           67500.0    135000.0  ...   \n",
       "3                     0             0          135000.0    312682.5  ...   \n",
       "4                     0             0          121500.0    513000.0  ...   \n",
       "...                 ...           ...               ...         ...  ...   \n",
       "307502                1             0          157500.0    254700.0  ...   \n",
       "307503                0             0           72000.0    269550.0  ...   \n",
       "307504                0             0          153000.0    677664.0  ...   \n",
       "307505                0             0          171000.0    370107.0  ...   \n",
       "307506                1             0          157500.0    675000.0  ...   \n",
       "\n",
       "        CC_NAME_CONTRACT_STATUS_Signed_MAX  \\\n",
       "0                                      NaN   \n",
       "1                                      NaN   \n",
       "2                                      NaN   \n",
       "3                                      0.0   \n",
       "4                                      NaN   \n",
       "...                                    ...   \n",
       "307502                                 NaN   \n",
       "307503                                 NaN   \n",
       "307504                                 NaN   \n",
       "307505                                 NaN   \n",
       "307506                                 NaN   \n",
       "\n",
       "        CC_NAME_CONTRACT_STATUS_Signed_MEAN  \\\n",
       "0                                       NaN   \n",
       "1                                       NaN   \n",
       "2                                       NaN   \n",
       "3                                       0.0   \n",
       "4                                       NaN   \n",
       "...                                     ...   \n",
       "307502                                  NaN   \n",
       "307503                                  NaN   \n",
       "307504                                  NaN   \n",
       "307505                                  NaN   \n",
       "307506                                  NaN   \n",
       "\n",
       "        CC_NAME_CONTRACT_STATUS_Signed_SUM  \\\n",
       "0                                      NaN   \n",
       "1                                      NaN   \n",
       "2                                      NaN   \n",
       "3                                      0.0   \n",
       "4                                      NaN   \n",
       "...                                    ...   \n",
       "307502                                 NaN   \n",
       "307503                                 NaN   \n",
       "307504                                 NaN   \n",
       "307505                                 NaN   \n",
       "307506                                 NaN   \n",
       "\n",
       "        CC_NAME_CONTRACT_STATUS_Signed_VAR  CC_NAME_CONTRACT_STATUS_nan_MIN  \\\n",
       "0                                      NaN                              NaN   \n",
       "1                                      NaN                              NaN   \n",
       "2                                      NaN                              NaN   \n",
       "3                                      0.0                              0.0   \n",
       "4                                      NaN                              NaN   \n",
       "...                                    ...                              ...   \n",
       "307502                                 NaN                              NaN   \n",
       "307503                                 NaN                              NaN   \n",
       "307504                                 NaN                              NaN   \n",
       "307505                                 NaN                              NaN   \n",
       "307506                                 NaN                              NaN   \n",
       "\n",
       "        CC_NAME_CONTRACT_STATUS_nan_MAX  CC_NAME_CONTRACT_STATUS_nan_MEAN  \\\n",
       "0                                   NaN                               NaN   \n",
       "1                                   NaN                               NaN   \n",
       "2                                   NaN                               NaN   \n",
       "3                                   0.0                               0.0   \n",
       "4                                   NaN                               NaN   \n",
       "...                                 ...                               ...   \n",
       "307502                              NaN                               NaN   \n",
       "307503                              NaN                               NaN   \n",
       "307504                              NaN                               NaN   \n",
       "307505                              NaN                               NaN   \n",
       "307506                              NaN                               NaN   \n",
       "\n",
       "        CC_NAME_CONTRACT_STATUS_nan_SUM  CC_NAME_CONTRACT_STATUS_nan_VAR  \\\n",
       "0                                   NaN                              NaN   \n",
       "1                                   NaN                              NaN   \n",
       "2                                   NaN                              NaN   \n",
       "3                                   0.0                              0.0   \n",
       "4                                   NaN                              NaN   \n",
       "...                                 ...                              ...   \n",
       "307502                              NaN                              NaN   \n",
       "307503                              NaN                              NaN   \n",
       "307504                              NaN                              NaN   \n",
       "307505                              NaN                              NaN   \n",
       "307506                              NaN                              NaN   \n",
       "\n",
       "        CC_COUNT  \n",
       "0            NaN  \n",
       "1            NaN  \n",
       "2            NaN  \n",
       "3            6.0  \n",
       "4            NaN  \n",
       "...          ...  \n",
       "307502       NaN  \n",
       "307503       NaN  \n",
       "307504       NaN  \n",
       "307505       NaN  \n",
       "307506       NaN  \n",
       "\n",
       "[307507 rows x 800 columns]"
      ]
     },
     "execution_count": 2,
     "metadata": {},
     "output_type": "execute_result"
    }
   ],
   "source": [
    "data = pd.read_csv(\"data/train_df.csv\")\n",
    "data"
   ]
  },
  {
   "cell_type": "markdown",
   "metadata": {},
   "source": [
    "# Isolation de la cible et séparation des données (train, test)"
   ]
  },
  {
   "cell_type": "code",
   "execution_count": 3,
   "metadata": {},
   "outputs": [
    {
     "data": {
      "text/plain": [
       "20"
      ]
     },
     "execution_count": 3,
     "metadata": {},
     "output_type": "execute_result"
    }
   ],
   "source": [
    "X = data.drop(columns=['TARGET','SK_ID_CURR','index', \"Unnamed: 0\"])\n",
    "y = data[\"TARGET\"]\n",
    "\n",
    "del data\n",
    "gc.collect()"
   ]
  },
  {
   "cell_type": "code",
   "execution_count": 4,
   "metadata": {},
   "outputs": [
    {
     "name": "stdout",
     "output_type": "stream",
     "text": [
      "X_train : (246005, 796)\n",
      "X_test : (61502, 796)\n",
      "y_train : (246005,)\n",
      "y_test : (61502,)\n"
     ]
    },
    {
     "data": {
      "text/plain": [
       "20"
      ]
     },
     "execution_count": 4,
     "metadata": {},
     "output_type": "execute_result"
    }
   ],
   "source": [
    "X_train, X_test, y_train, y_test = model_selection.train_test_split(X, y, test_size=0.2, random_state=123)\n",
    "\n",
    "print(f\"X_train : {X_train.shape}\")\n",
    "print(f\"X_test : {X_test.shape}\")\n",
    "print(f\"y_train : {y_train.shape}\")\n",
    "print(f\"y_test : {y_test.shape}\")\n",
    "\n",
    "del X, y\n",
    "gc.collect()"
   ]
  },
  {
   "cell_type": "markdown",
   "metadata": {},
   "source": [
    "# Etablissement d'une baseline"
   ]
  },
  {
   "cell_type": "code",
   "execution_count": 5,
   "metadata": {},
   "outputs": [
    {
     "data": {
      "text/plain": [
       "DummyClassifier(random_state=123, strategy='stratified')"
      ]
     },
     "execution_count": 5,
     "metadata": {},
     "output_type": "execute_result"
    }
   ],
   "source": [
    "# dummy classifier \n",
    "dummy_classifier = dummy.DummyClassifier(strategy=\"stratified\", random_state=123)\n",
    "dummy_classifier.fit(X_train,y_train)"
   ]
  },
  {
   "cell_type": "code",
   "execution_count": 6,
   "metadata": {},
   "outputs": [
    {
     "name": "stdout",
     "output_type": "stream",
     "text": [
      "Baseline AUROC par dummy classifier  : 0.5008178332029487\n"
     ]
    },
    {
     "data": {
      "text/plain": [
       "40"
      ]
     },
     "execution_count": 6,
     "metadata": {},
     "output_type": "execute_result"
    }
   ],
   "source": [
    "# performances\n",
    "y_pred = dummy_classifier.predict(X_test)\n",
    "baseline = metrics.roc_auc_score(y_test, y_pred)\n",
    "print(f\"Baseline AUROC par dummy classifier  : {baseline}\")\n",
    "\n",
    "del dummy_classifier\n",
    "gc.collect()"
   ]
  },
  {
   "cell_type": "markdown",
   "metadata": {},
   "source": [
    "# Entraînement d'un classifieur LightGBM sur le train set sur 5 folds (5 classifieurs)"
   ]
  },
  {
   "cell_type": "code",
   "execution_count": 7,
   "metadata": {},
   "outputs": [],
   "source": [
    "# rectification des noms des features pour le classifieur LGBM\n",
    "\n",
    "def replace_name(name):\n",
    "    for c in [\"[\",\"]\",\",\",\"{\",\"}\",'\"',\":\",\" \"]:\n",
    "        if c in name :\n",
    "            name = name.replace(c,\"_\")\n",
    "    return name\n",
    "            \n",
    "features = list(map(replace_name, X_train.columns))\n",
    "X_train.columns = features\n",
    "X_test.columns = features"
   ]
  },
  {
   "cell_type": "code",
   "execution_count": 8,
   "metadata": {},
   "outputs": [
    {
     "name": "stdout",
     "output_type": "stream",
     "text": [
      "Training until validation scores don't improve for 200 rounds\n",
      "[200]\ttraining's auc: 0.795773\ttraining's binary_logloss: 0.237936\tvalid_1's auc: 0.777044\tvalid_1's binary_logloss: 0.243029\n",
      "[400]\ttraining's auc: 0.818561\ttraining's binary_logloss: 0.227554\tvalid_1's auc: 0.786417\tvalid_1's binary_logloss: 0.238006\n",
      "[600]\ttraining's auc: 0.832722\ttraining's binary_logloss: 0.221505\tvalid_1's auc: 0.790009\tvalid_1's binary_logloss: 0.236348\n",
      "[800]\ttraining's auc: 0.843888\ttraining's binary_logloss: 0.216835\tvalid_1's auc: 0.79182\tvalid_1's binary_logloss: 0.235576\n",
      "[1000]\ttraining's auc: 0.853354\ttraining's binary_logloss: 0.21283\tvalid_1's auc: 0.792652\tvalid_1's binary_logloss: 0.235246\n",
      "[1200]\ttraining's auc: 0.862134\ttraining's binary_logloss: 0.209081\tvalid_1's auc: 0.793455\tvalid_1's binary_logloss: 0.234968\n",
      "[1400]\ttraining's auc: 0.870716\ttraining's binary_logloss: 0.205308\tvalid_1's auc: 0.793896\tvalid_1's binary_logloss: 0.234785\n",
      "[1600]\ttraining's auc: 0.878438\ttraining's binary_logloss: 0.201777\tvalid_1's auc: 0.793848\tvalid_1's binary_logloss: 0.234765\n",
      "[1800]\ttraining's auc: 0.885672\ttraining's binary_logloss: 0.198361\tvalid_1's auc: 0.794122\tvalid_1's binary_logloss: 0.234652\n",
      "[2000]\ttraining's auc: 0.892305\ttraining's binary_logloss: 0.195113\tvalid_1's auc: 0.794129\tvalid_1's binary_logloss: 0.234649\n",
      "[2200]\ttraining's auc: 0.898437\ttraining's binary_logloss: 0.192039\tvalid_1's auc: 0.793989\tvalid_1's binary_logloss: 0.234676\n",
      "Early stopping, best iteration is:\n",
      "[2015]\ttraining's auc: 0.892835\ttraining's binary_logloss: 0.194855\tvalid_1's auc: 0.794169\tvalid_1's binary_logloss: 0.234632\n",
      "Fold  1 AUC : 0.794169\n",
      "Training until validation scores don't improve for 200 rounds\n",
      "[200]\ttraining's auc: 0.797598\ttraining's binary_logloss: 0.23731\tvalid_1's auc: 0.77122\tvalid_1's binary_logloss: 0.244611\n",
      "[400]\ttraining's auc: 0.820285\ttraining's binary_logloss: 0.226766\tvalid_1's auc: 0.780396\tvalid_1's binary_logloss: 0.240099\n",
      "[600]\ttraining's auc: 0.834786\ttraining's binary_logloss: 0.22046\tvalid_1's auc: 0.784202\tvalid_1's binary_logloss: 0.238551\n",
      "[800]\ttraining's auc: 0.84631\ttraining's binary_logloss: 0.215541\tvalid_1's auc: 0.786342\tvalid_1's binary_logloss: 0.237775\n",
      "[1000]\ttraining's auc: 0.856558\ttraining's binary_logloss: 0.211139\tvalid_1's auc: 0.787408\tvalid_1's binary_logloss: 0.237375\n",
      "[1200]\ttraining's auc: 0.866142\ttraining's binary_logloss: 0.207\tvalid_1's auc: 0.788131\tvalid_1's binary_logloss: 0.237117\n",
      "[1400]\ttraining's auc: 0.874398\ttraining's binary_logloss: 0.203291\tvalid_1's auc: 0.788632\tvalid_1's binary_logloss: 0.236937\n",
      "[1600]\ttraining's auc: 0.881739\ttraining's binary_logloss: 0.19988\tvalid_1's auc: 0.788672\tvalid_1's binary_logloss: 0.236918\n",
      "[1800]\ttraining's auc: 0.888572\ttraining's binary_logloss: 0.196623\tvalid_1's auc: 0.788865\tvalid_1's binary_logloss: 0.236871\n",
      "[2000]\ttraining's auc: 0.894912\ttraining's binary_logloss: 0.193459\tvalid_1's auc: 0.78913\tvalid_1's binary_logloss: 0.236802\n",
      "[2200]\ttraining's auc: 0.900629\ttraining's binary_logloss: 0.190531\tvalid_1's auc: 0.789105\tvalid_1's binary_logloss: 0.236825\n",
      "Early stopping, best iteration is:\n",
      "[2084]\ttraining's auc: 0.8974\ttraining's binary_logloss: 0.192231\tvalid_1's auc: 0.789173\tvalid_1's binary_logloss: 0.236787\n",
      "Fold  2 AUC : 0.789173\n",
      "Training until validation scores don't improve for 200 rounds\n",
      "[200]\ttraining's auc: 0.797932\ttraining's binary_logloss: 0.23711\tvalid_1's auc: 0.764751\tvalid_1's binary_logloss: 0.245881\n",
      "[400]\ttraining's auc: 0.820836\ttraining's binary_logloss: 0.226541\tvalid_1's auc: 0.774861\tvalid_1's binary_logloss: 0.241139\n",
      "[600]\ttraining's auc: 0.835538\ttraining's binary_logloss: 0.220162\tvalid_1's auc: 0.779177\tvalid_1's binary_logloss: 0.239477\n",
      "[800]\ttraining's auc: 0.846738\ttraining's binary_logloss: 0.215467\tvalid_1's auc: 0.781228\tvalid_1's binary_logloss: 0.238719\n",
      "[1000]\ttraining's auc: 0.8568\ttraining's binary_logloss: 0.211175\tvalid_1's auc: 0.782232\tvalid_1's binary_logloss: 0.238344\n",
      "[1200]\ttraining's auc: 0.865813\ttraining's binary_logloss: 0.207265\tvalid_1's auc: 0.782731\tvalid_1's binary_logloss: 0.238182\n",
      "[1400]\ttraining's auc: 0.873734\ttraining's binary_logloss: 0.203674\tvalid_1's auc: 0.782979\tvalid_1's binary_logloss: 0.238083\n",
      "[1600]\ttraining's auc: 0.881375\ttraining's binary_logloss: 0.200165\tvalid_1's auc: 0.78331\tvalid_1's binary_logloss: 0.237991\n",
      "[1800]\ttraining's auc: 0.888236\ttraining's binary_logloss: 0.196888\tvalid_1's auc: 0.783245\tvalid_1's binary_logloss: 0.237992\n",
      "Early stopping, best iteration is:\n",
      "[1615]\ttraining's auc: 0.881937\ttraining's binary_logloss: 0.199897\tvalid_1's auc: 0.783322\tvalid_1's binary_logloss: 0.23798\n",
      "Fold  3 AUC : 0.783322\n",
      "Training until validation scores don't improve for 200 rounds\n",
      "[200]\ttraining's auc: 0.79659\ttraining's binary_logloss: 0.237406\tvalid_1's auc: 0.769696\tvalid_1's binary_logloss: 0.245224\n",
      "[400]\ttraining's auc: 0.818977\ttraining's binary_logloss: 0.227068\tvalid_1's auc: 0.781486\tvalid_1's binary_logloss: 0.240218\n",
      "[600]\ttraining's auc: 0.833646\ttraining's binary_logloss: 0.220742\tvalid_1's auc: 0.786503\tvalid_1's binary_logloss: 0.238339\n",
      "[800]\ttraining's auc: 0.844846\ttraining's binary_logloss: 0.215982\tvalid_1's auc: 0.788765\tvalid_1's binary_logloss: 0.237498\n",
      "[1000]\ttraining's auc: 0.854749\ttraining's binary_logloss: 0.211707\tvalid_1's auc: 0.790088\tvalid_1's binary_logloss: 0.237027\n",
      "[1200]\ttraining's auc: 0.863742\ttraining's binary_logloss: 0.207773\tvalid_1's auc: 0.790941\tvalid_1's binary_logloss: 0.236714\n",
      "[1400]\ttraining's auc: 0.872\ttraining's binary_logloss: 0.204091\tvalid_1's auc: 0.791575\tvalid_1's binary_logloss: 0.236526\n",
      "[1600]\ttraining's auc: 0.879556\ttraining's binary_logloss: 0.200623\tvalid_1's auc: 0.791945\tvalid_1's binary_logloss: 0.236379\n",
      "[1800]\ttraining's auc: 0.886333\ttraining's binary_logloss: 0.19739\tvalid_1's auc: 0.792072\tvalid_1's binary_logloss: 0.236327\n",
      "[2000]\ttraining's auc: 0.893161\ttraining's binary_logloss: 0.194064\tvalid_1's auc: 0.792212\tvalid_1's binary_logloss: 0.236273\n",
      "Early stopping, best iteration is:\n",
      "[1917]\ttraining's auc: 0.890384\ttraining's binary_logloss: 0.195428\tvalid_1's auc: 0.792222\tvalid_1's binary_logloss: 0.236276\n",
      "Fold  4 AUC : 0.792222\n",
      "Training until validation scores don't improve for 200 rounds\n",
      "[200]\ttraining's auc: 0.797639\ttraining's binary_logloss: 0.237328\tvalid_1's auc: 0.770476\tvalid_1's binary_logloss: 0.244671\n",
      "[400]\ttraining's auc: 0.819778\ttraining's binary_logloss: 0.226957\tvalid_1's auc: 0.780334\tvalid_1's binary_logloss: 0.239887\n",
      "[600]\ttraining's auc: 0.833873\ttraining's binary_logloss: 0.220884\tvalid_1's auc: 0.784049\tvalid_1's binary_logloss: 0.238359\n",
      "[800]\ttraining's auc: 0.844964\ttraining's binary_logloss: 0.216183\tvalid_1's auc: 0.785702\tvalid_1's binary_logloss: 0.237696\n",
      "[1000]\ttraining's auc: 0.854616\ttraining's binary_logloss: 0.212078\tvalid_1's auc: 0.786693\tvalid_1's binary_logloss: 0.237326\n",
      "[1200]\ttraining's auc: 0.863476\ttraining's binary_logloss: 0.208247\tvalid_1's auc: 0.787285\tvalid_1's binary_logloss: 0.237108\n",
      "[1400]\ttraining's auc: 0.871328\ttraining's binary_logloss: 0.204731\tvalid_1's auc: 0.787548\tvalid_1's binary_logloss: 0.237002\n",
      "[1600]\ttraining's auc: 0.87889\ttraining's binary_logloss: 0.201272\tvalid_1's auc: 0.788094\tvalid_1's binary_logloss: 0.236813\n",
      "[1800]\ttraining's auc: 0.885963\ttraining's binary_logloss: 0.197939\tvalid_1's auc: 0.788309\tvalid_1's binary_logloss: 0.236748\n",
      "[2000]\ttraining's auc: 0.892136\ttraining's binary_logloss: 0.194912\tvalid_1's auc: 0.788418\tvalid_1's binary_logloss: 0.2367\n",
      "[2200]\ttraining's auc: 0.898401\ttraining's binary_logloss: 0.191728\tvalid_1's auc: 0.788487\tvalid_1's binary_logloss: 0.236675\n",
      "[2400]\ttraining's auc: 0.904201\ttraining's binary_logloss: 0.188741\tvalid_1's auc: 0.788482\tvalid_1's binary_logloss: 0.236715\n",
      "Early stopping, best iteration is:\n",
      "[2300]\ttraining's auc: 0.901286\ttraining's binary_logloss: 0.190272\tvalid_1's auc: 0.788552\tvalid_1's binary_logloss: 0.236668\n",
      "Fold  5 AUC : 0.788552\n"
     ]
    }
   ],
   "source": [
    "# modèle de cross validation pour entraînement par fold\n",
    "folds = model_selection.StratifiedKFold(n_splits= 5, shuffle=True, random_state=123)\n",
    "\n",
    "# création des dataframes pour stocker les résultats\n",
    "oof_preds = np.zeros(X_train.shape[0])\n",
    "sub_preds = np.zeros(X_test.shape[0])\n",
    "feature_importance_df = pd.DataFrame()\n",
    "\n",
    "for n_fold, (train_idx, valid_idx) in enumerate(folds.split(X_train, y_train)):\n",
    "    train_x, train_y = X_train.iloc[train_idx], y_train.iloc[train_idx]\n",
    "    valid_x, valid_y = X_train.iloc[valid_idx], y_train.iloc[valid_idx]\n",
    "\n",
    "    # paramètres déterminés par optimisation Bayésienne\n",
    "    clf = lgb.LGBMClassifier(\n",
    "        n_jobs=-1,\n",
    "        n_estimators=10000,\n",
    "        learning_rate=0.01604238736764179,\n",
    "        num_leaves=35,\n",
    "        colsample_bytree=0.5008424936188149,\n",
    "        subsample=0.8715623,\n",
    "        max_depth=7,\n",
    "        reg_alpha=0.45530956234831316,\n",
    "        reg_lambda=0.41291226155010513,\n",
    "        min_split_gain=0.035332365150277316,\n",
    "        min_child_weight=39.39942093978256,\n",
    "        silent=-1,\n",
    "        verbose=-1,\n",
    "        random_state=123)\n",
    "    \n",
    "    # entraînement de chaque fold\n",
    "    clf.fit(train_x, train_y, eval_set=[(train_x, train_y), (valid_x, valid_y)], \n",
    "        eval_metric= 'auc', verbose= 200, early_stopping_rounds= 200)\n",
    "\n",
    "    # stockage des prédictions\n",
    "    oof_preds[valid_idx] = clf.predict_proba(valid_x, num_iteration=clf.best_iteration_)[:, 1]\n",
    "    sub_preds += clf.predict_proba(X_test, num_iteration=clf.best_iteration_)[:, 1] / folds.n_splits\n",
    "    \n",
    "    # stockage des features importances\n",
    "    fold_importance_df = pd.DataFrame()\n",
    "    fold_importance_df[\"feature\"] = X_train.columns\n",
    "    fold_importance_df[\"importance\"] = clf.feature_importances_\n",
    "    fold_importance_df[\"fold\"] = n_fold + 1\n",
    "    feature_importance_df = pd.concat([feature_importance_df, fold_importance_df], axis=0)\n",
    "    print('Fold %2d AUC : %.6f' % (n_fold + 1, metrics.roc_auc_score(valid_y, oof_preds[valid_idx])))\n",
    "    del clf, train_x, train_y, valid_x, valid_y\n",
    "    gc.collect()\n"
   ]
  },
  {
   "cell_type": "code",
   "execution_count": 9,
   "metadata": {},
   "outputs": [
    {
     "name": "stdout",
     "output_type": "stream",
     "text": [
      "AUROC sur train set  : 0.7894884703343306\n",
      "AUROC sur test set : 0.7938340068307483\n"
     ]
    }
   ],
   "source": [
    "# affichage des performances\n",
    "\n",
    "train_score = metrics.roc_auc_score(y_train, oof_preds)\n",
    "test_score = metrics.roc_auc_score(y_test, sub_preds)\n",
    "print(f\"AUROC sur train set  : {train_score}\")\n",
    "print(f\"AUROC sur test set : {test_score}\")"
   ]
  },
  {
   "cell_type": "code",
   "execution_count": 10,
   "metadata": {},
   "outputs": [
    {
     "data": {
      "image/png": "[encoded data removed]",
      "text/plain": [
       "<Figure size 576x720 with 1 Axes>"
      ]
     },
     "metadata": {
      "needs_background": "light"
     },
     "output_type": "display_data"
    }
   ],
   "source": [
    "# affichage de l'importance des features\n",
    "\n",
    "cols = feature_importance_df[[\"feature\", \"importance\"]].groupby(\"feature\").mean()\\\n",
    "                    .sort_values(by=\"importance\", ascending=False)[:40].index\n",
    "best_features = feature_importance_df.loc[feature_importance_df.feature.isin(cols)]\n",
    "plt.figure(figsize=(8, 10))\n",
    "sns.barplot(x=\"importance\", y=\"feature\", data=best_features.sort_values(by=\"importance\", ascending=False))\n",
    "plt.title('LightGBM Features (avg over folds)')\n",
    "plt.tight_layout()\n",
    "plt.savefig('img/lgbm_importances01.png')"
   ]
  },
  {
   "cell_type": "markdown",
   "metadata": {},
   "source": [
    "# Entraînement d'un LGBM Classifier unique sur le train set"
   ]
  },
  {
   "cell_type": "code",
   "execution_count": 11,
   "metadata": {},
   "outputs": [],
   "source": [
    "# création d'un set de validation\n",
    "\n",
    "train_x, valid_x, train_y, valid_y = model_selection.train_test_split(X_train, y_train, test_size=0.2, \n",
    "                                                                      random_state=123)"
   ]
  },
  {
   "cell_type": "code",
   "execution_count": 12,
   "metadata": {},
   "outputs": [
    {
     "name": "stdout",
     "output_type": "stream",
     "text": [
      "Training until validation scores don't improve for 200 rounds\n",
      "[200]\ttraining's auc: 0.797684\ttraining's binary_logloss: 0.236584\tvalid_1's auc: 0.768502\tvalid_1's binary_logloss: 0.247619\n",
      "[400]\ttraining's auc: 0.81982\ttraining's binary_logloss: 0.226244\tvalid_1's auc: 0.778405\tvalid_1's binary_logloss: 0.243087\n",
      "[600]\ttraining's auc: 0.834086\ttraining's binary_logloss: 0.220087\tvalid_1's auc: 0.78232\tvalid_1's binary_logloss: 0.241573\n",
      "[800]\ttraining's auc: 0.845255\ttraining's binary_logloss: 0.21534\tvalid_1's auc: 0.784219\tvalid_1's binary_logloss: 0.240885\n",
      "[1000]\ttraining's auc: 0.854765\ttraining's binary_logloss: 0.211231\tvalid_1's auc: 0.785301\tvalid_1's binary_logloss: 0.240541\n",
      "[1200]\ttraining's auc: 0.863378\ttraining's binary_logloss: 0.20747\tvalid_1's auc: 0.785989\tvalid_1's binary_logloss: 0.240328\n",
      "[1400]\ttraining's auc: 0.870942\ttraining's binary_logloss: 0.204058\tvalid_1's auc: 0.786652\tvalid_1's binary_logloss: 0.240157\n",
      "[1600]\ttraining's auc: 0.87844\ttraining's binary_logloss: 0.20061\tvalid_1's auc: 0.787045\tvalid_1's binary_logloss: 0.240053\n",
      "[1800]\ttraining's auc: 0.885714\ttraining's binary_logloss: 0.197226\tvalid_1's auc: 0.787289\tvalid_1's binary_logloss: 0.240013\n",
      "[2000]\ttraining's auc: 0.8924\ttraining's binary_logloss: 0.19399\tvalid_1's auc: 0.787334\tvalid_1's binary_logloss: 0.240034\n",
      "Early stopping, best iteration is:\n",
      "[1874]\ttraining's auc: 0.888206\ttraining's binary_logloss: 0.196035\tvalid_1's auc: 0.787408\tvalid_1's binary_logloss: 0.239982\n"
     ]
    },
    {
     "data": {
      "text/plain": [
       "LGBMClassifier(colsample_bytree=0.5008424936188149,\n",
       "               learning_rate=0.01604238736764179, max_depth=7,\n",
       "               min_child_weight=39.39942093978256,\n",
       "               min_split_gain=0.035332365150277316, n_estimators=10000,\n",
       "               num_leaves=35, random_state=123, reg_alpha=0.45530956234831316,\n",
       "               reg_lambda=0.41291226155010513, silent=-1, subsample=0.8715623,\n",
       "               verbose=-1)"
      ]
     },
     "execution_count": 12,
     "metadata": {},
     "output_type": "execute_result"
    }
   ],
   "source": [
    "# modèle avec les mêmes paramètres\n",
    "\n",
    "clf = lgb.LGBMClassifier(\n",
    "        n_jobs=-1,\n",
    "        n_estimators=10000,\n",
    "        learning_rate=0.01604238736764179,\n",
    "        num_leaves=35,\n",
    "        colsample_bytree=0.5008424936188149,\n",
    "        subsample=0.8715623,\n",
    "        max_depth=7,\n",
    "        reg_alpha=0.45530956234831316,\n",
    "        reg_lambda=0.41291226155010513,\n",
    "        min_split_gain=0.035332365150277316,\n",
    "        min_child_weight=39.39942093978256,\n",
    "        silent=-1,\n",
    "        verbose=-1,\n",
    "        random_state=123)\n",
    "\n",
    "# entraînement\n",
    "clf.fit(train_x, train_y, eval_set=[(train_x, train_y), (valid_x, valid_y)], \n",
    "    eval_metric= 'auc', verbose= 200, early_stopping_rounds= 200)"
   ]
  },
  {
   "cell_type": "code",
   "execution_count": 13,
   "metadata": {},
   "outputs": [
    {
     "data": {
      "text/plain": [
       "0.7908508887626532"
      ]
     },
     "execution_count": 13,
     "metadata": {},
     "output_type": "execute_result"
    }
   ],
   "source": [
    "# performances\n",
    "\n",
    "y_pred = clf.predict_proba(X_test, num_iteration=clf.best_iteration_)[:, 1]\n",
    "metrics.roc_auc_score(y_test, y_pred)"
   ]
  },
  {
   "cell_type": "code",
   "execution_count": 14,
   "metadata": {},
   "outputs": [
    {
     "data": {
      "image/png": "[encoded data removed]",
      "text/plain": [
       "<Figure size 576x720 with 1 Axes>"
      ]
     },
     "metadata": {
      "needs_background": "light"
     },
     "output_type": "display_data"
    }
   ],
   "source": [
    "# features importances\n",
    "\n",
    "feature_importance_df = pd.DataFrame()\n",
    "feature_importance_df[\"feature\"] = X_train.columns\n",
    "feature_importance_df[\"importance\"] = clf.feature_importances_\n",
    "best_features_idx = feature_importance_df.sort_values(by=\"importance\", ascending=False)[:40].index\n",
    "plt.figure(figsize=(8, 10))\n",
    "sns.barplot(x=\"importance\", y=\"feature\", data=feature_importance_df.iloc[best_features_idx].sort_values(by=\"importance\", ascending=False))\n",
    "plt.title('LightGBM Features')\n",
    "plt.tight_layout()"
   ]
  },
  {
   "cell_type": "markdown",
   "metadata": {},
   "source": [
    "Les performances sont à peine moins bonnes, je garde donc ce principe d'un classifieur unique.\n"
   ]
  },
  {
   "cell_type": "code",
   "execution_count": null,
   "metadata": {},
   "outputs": [],
   "source": []
  }
 ],
 "metadata": {
  "kernelspec": {
   "display_name": "Python 3",
   "language": "python",
   "name": "python3"
  },
  "language_info": {
   "codemirror_mode": {
    "name": "ipython",
    "version": 3
   },
   "file_extension": ".py",
   "mimetype": "text/x-python",
   "name": "python",
   "nbconvert_exporter": "python",
   "pygments_lexer": "ipython3",
   "version": "3.8.5"
  }
 },
 "nbformat": 4,
 "nbformat_minor": 4
}
