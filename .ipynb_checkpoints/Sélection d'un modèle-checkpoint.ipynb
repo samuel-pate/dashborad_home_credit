{
 "cells": [
  {
   "cell_type": "code",
   "execution_count": 1,
   "metadata": {},
   "outputs": [
    {
     "name": "stdout",
     "output_type": "stream",
     "text": [
      "1.1.3\n",
      "1.19.4\n",
      "0.11.0\n",
      "3.3.2\n",
      "0.23.2\n"
     ]
    }
   ],
   "source": [
    "import pandas as pd\n",
    "import numpy as np\n",
    "import gc\n",
    "import lightgbm as lgb\n",
    "import seaborn as sns\n",
    "import matplotlib\n",
    "import matplotlib.pyplot as plt\n",
    "import sklearn\n",
    "from sklearn import model_selection, dummy, metrics\n",
    "\n",
    "print(pd.__version__) #1.1.3\n",
    "print(np.__version__) #1.19.4\n",
    "print(sns.__version__) #0.11.0\n",
    "print(matplotlib.__version__) # 3.3.2\n",
    "print(sklearn.__version__) # 0.23.2"
   ]
  },
  {
   "cell_type": "markdown",
   "metadata": {},
   "source": [
    "# Récupération des données"
   ]
  },
  {
   "cell_type": "code",
   "execution_count": 2,
   "metadata": {},
   "outputs": [
    {
     "data": {
      "text/html": [
       "<div>\n",
       "<style scoped>\n",
       "    .dataframe tbody tr th:only-of-type {\n",
       "        vertical-align: middle;\n",
       "    }\n",
       "\n",
       "    .dataframe tbody tr th {\n",
       "        vertical-align: top;\n",
       "    }\n",
       "\n",
       "    .dataframe thead th {\n",
       "        text-align: right;\n",
       "    }\n",
       "</style>\n",
       "<table border=\"1\" class=\"dataframe\">\n",
       "  <thead>\n",
       "    <tr style=\"text-align: right;\">\n",
       "      <th></th>\n",
       "      <th>Unnamed: 0</th>\n",
       "      <th>index</th>\n",
       "      <th>SK_ID_CURR</th>\n",
       "      <th>TARGET</th>\n",
       "      <th>CODE_GENDER</th>\n",
       "      <th>FLAG_OWN_CAR</th>\n",
       "      <th>FLAG_OWN_REALTY</th>\n",
       "      <th>CNT_CHILDREN</th>\n",
       "      <th>AMT_INCOME_TOTAL</th>\n",
       "      <th>AMT_CREDIT</th>\n",
       "      <th>...</th>\n",
       "      <th>CC_NAME_CONTRACT_STATUS_Signed_MAX</th>\n",
       "      <th>CC_NAME_CONTRACT_STATUS_Signed_MEAN</th>\n",
       "      <th>CC_NAME_CONTRACT_STATUS_Signed_SUM</th>\n",
       "      <th>CC_NAME_CONTRACT_STATUS_Signed_VAR</th>\n",
       "      <th>CC_NAME_CONTRACT_STATUS_nan_MIN</th>\n",
       "      <th>CC_NAME_CONTRACT_STATUS_nan_MAX</th>\n",
       "      <th>CC_NAME_CONTRACT_STATUS_nan_MEAN</th>\n",
       "      <th>CC_NAME_CONTRACT_STATUS_nan_SUM</th>\n",
       "      <th>CC_NAME_CONTRACT_STATUS_nan_VAR</th>\n",
       "      <th>CC_COUNT</th>\n",
       "    </tr>\n",
       "  </thead>\n",
       "  <tbody>\n",
       "    <tr>\n",
       "      <th>0</th>\n",
       "      <td>0</td>\n",
       "      <td>0</td>\n",
       "      <td>100002</td>\n",
       "      <td>1.0</td>\n",
       "      <td>0</td>\n",
       "      <td>0</td>\n",
       "      <td>0</td>\n",
       "      <td>0</td>\n",
       "      <td>202500.0</td>\n",
       "      <td>406597.5</td>\n",
       "      <td>...</td>\n",
       "      <td>NaN</td>\n",
       "      <td>NaN</td>\n",
       "      <td>NaN</td>\n",
       "      <td>NaN</td>\n",
       "      <td>NaN</td>\n",
       "      <td>NaN</td>\n",
       "      <td>NaN</td>\n",
       "      <td>NaN</td>\n",
       "      <td>NaN</td>\n",
       "      <td>NaN</td>\n",
       "    </tr>\n",
       "    <tr>\n",
       "      <th>1</th>\n",
       "      <td>1</td>\n",
       "      <td>1</td>\n",
       "      <td>100003</td>\n",
       "      <td>0.0</td>\n",
       "      <td>1</td>\n",
       "      <td>0</td>\n",
       "      <td>1</td>\n",
       "      <td>0</td>\n",
       "      <td>270000.0</td>\n",
       "      <td>1293502.5</td>\n",
       "      <td>...</td>\n",
       "      <td>NaN</td>\n",
       "      <td>NaN</td>\n",
       "      <td>NaN</td>\n",
       "      <td>NaN</td>\n",
       "      <td>NaN</td>\n",
       "      <td>NaN</td>\n",
       "      <td>NaN</td>\n",
       "      <td>NaN</td>\n",
       "      <td>NaN</td>\n",
       "      <td>NaN</td>\n",
       "    </tr>\n",
       "    <tr>\n",
       "      <th>2</th>\n",
       "      <td>2</td>\n",
       "      <td>2</td>\n",
       "      <td>100004</td>\n",
       "      <td>0.0</td>\n",
       "      <td>0</td>\n",
       "      <td>1</td>\n",
       "      <td>0</td>\n",
       "      <td>0</td>\n",
       "      <td>67500.0</td>\n",
       "      <td>135000.0</td>\n",
       "      <td>...</td>\n",
       "      <td>NaN</td>\n",
       "      <td>NaN</td>\n",
       "      <td>NaN</td>\n",
       "      <td>NaN</td>\n",
       "      <td>NaN</td>\n",
       "      <td>NaN</td>\n",
       "      <td>NaN</td>\n",
       "      <td>NaN</td>\n",
       "      <td>NaN</td>\n",
       "      <td>NaN</td>\n",
       "    </tr>\n",
       "    <tr>\n",
       "      <th>3</th>\n",
       "      <td>3</td>\n",
       "      <td>3</td>\n",
       "      <td>100006</td>\n",
       "      <td>0.0</td>\n",
       "      <td>1</td>\n",
       "      <td>0</td>\n",
       "      <td>0</td>\n",
       "      <td>0</td>\n",
       "      <td>135000.0</td>\n",
       "      <td>312682.5</td>\n",
       "      <td>...</td>\n",
       "      <td>0.0</td>\n",
       "      <td>0.0</td>\n",
       "      <td>0.0</td>\n",
       "      <td>0.0</td>\n",
       "      <td>0.0</td>\n",
       "      <td>0.0</td>\n",
       "      <td>0.0</td>\n",
       "      <td>0.0</td>\n",
       "      <td>0.0</td>\n",
       "      <td>6.0</td>\n",
       "    </tr>\n",
       "    <tr>\n",
       "      <th>4</th>\n",
       "      <td>4</td>\n",
       "      <td>4</td>\n",
       "      <td>100007</td>\n",
       "      <td>0.0</td>\n",
       "      <td>0</td>\n",
       "      <td>0</td>\n",
       "      <td>0</td>\n",
       "      <td>0</td>\n",
       "      <td>121500.0</td>\n",
       "      <td>513000.0</td>\n",
       "      <td>...</td>\n",
       "      <td>NaN</td>\n",
       "      <td>NaN</td>\n",
       "      <td>NaN</td>\n",
       "      <td>NaN</td>\n",
       "      <td>NaN</td>\n",
       "      <td>NaN</td>\n",
       "      <td>NaN</td>\n",
       "      <td>NaN</td>\n",
       "      <td>NaN</td>\n",
       "      <td>NaN</td>\n",
       "    </tr>\n",
       "    <tr>\n",
       "      <th>...</th>\n",
       "      <td>...</td>\n",
       "      <td>...</td>\n",
       "      <td>...</td>\n",
       "      <td>...</td>\n",
       "      <td>...</td>\n",
       "      <td>...</td>\n",
       "      <td>...</td>\n",
       "      <td>...</td>\n",
       "      <td>...</td>\n",
       "      <td>...</td>\n",
       "      <td>...</td>\n",
       "      <td>...</td>\n",
       "      <td>...</td>\n",
       "      <td>...</td>\n",
       "      <td>...</td>\n",
       "      <td>...</td>\n",
       "      <td>...</td>\n",
       "      <td>...</td>\n",
       "      <td>...</td>\n",
       "      <td>...</td>\n",
       "      <td>...</td>\n",
       "    </tr>\n",
       "    <tr>\n",
       "      <th>307502</th>\n",
       "      <td>307502</td>\n",
       "      <td>307506</td>\n",
       "      <td>456251</td>\n",
       "      <td>0.0</td>\n",
       "      <td>0</td>\n",
       "      <td>0</td>\n",
       "      <td>1</td>\n",
       "      <td>0</td>\n",
       "      <td>157500.0</td>\n",
       "      <td>254700.0</td>\n",
       "      <td>...</td>\n",
       "      <td>NaN</td>\n",
       "      <td>NaN</td>\n",
       "      <td>NaN</td>\n",
       "      <td>NaN</td>\n",
       "      <td>NaN</td>\n",
       "      <td>NaN</td>\n",
       "      <td>NaN</td>\n",
       "      <td>NaN</td>\n",
       "      <td>NaN</td>\n",
       "      <td>NaN</td>\n",
       "    </tr>\n",
       "    <tr>\n",
       "      <th>307503</th>\n",
       "      <td>307503</td>\n",
       "      <td>307507</td>\n",
       "      <td>456252</td>\n",
       "      <td>0.0</td>\n",
       "      <td>1</td>\n",
       "      <td>0</td>\n",
       "      <td>0</td>\n",
       "      <td>0</td>\n",
       "      <td>72000.0</td>\n",
       "      <td>269550.0</td>\n",
       "      <td>...</td>\n",
       "      <td>NaN</td>\n",
       "      <td>NaN</td>\n",
       "      <td>NaN</td>\n",
       "      <td>NaN</td>\n",
       "      <td>NaN</td>\n",
       "      <td>NaN</td>\n",
       "      <td>NaN</td>\n",
       "      <td>NaN</td>\n",
       "      <td>NaN</td>\n",
       "      <td>NaN</td>\n",
       "    </tr>\n",
       "    <tr>\n",
       "      <th>307504</th>\n",
       "      <td>307504</td>\n",
       "      <td>307508</td>\n",
       "      <td>456253</td>\n",
       "      <td>0.0</td>\n",
       "      <td>1</td>\n",
       "      <td>0</td>\n",
       "      <td>0</td>\n",
       "      <td>0</td>\n",
       "      <td>153000.0</td>\n",
       "      <td>677664.0</td>\n",
       "      <td>...</td>\n",
       "      <td>NaN</td>\n",
       "      <td>NaN</td>\n",
       "      <td>NaN</td>\n",
       "      <td>NaN</td>\n",
       "      <td>NaN</td>\n",
       "      <td>NaN</td>\n",
       "      <td>NaN</td>\n",
       "      <td>NaN</td>\n",
       "      <td>NaN</td>\n",
       "      <td>NaN</td>\n",
       "    </tr>\n",
       "    <tr>\n",
       "      <th>307505</th>\n",
       "      <td>307505</td>\n",
       "      <td>307509</td>\n",
       "      <td>456254</td>\n",
       "      <td>1.0</td>\n",
       "      <td>1</td>\n",
       "      <td>0</td>\n",
       "      <td>0</td>\n",
       "      <td>0</td>\n",
       "      <td>171000.0</td>\n",
       "      <td>370107.0</td>\n",
       "      <td>...</td>\n",
       "      <td>NaN</td>\n",
       "      <td>NaN</td>\n",
       "      <td>NaN</td>\n",
       "      <td>NaN</td>\n",
       "      <td>NaN</td>\n",
       "      <td>NaN</td>\n",
       "      <td>NaN</td>\n",
       "      <td>NaN</td>\n",
       "      <td>NaN</td>\n",
       "      <td>NaN</td>\n",
       "    </tr>\n",
       "    <tr>\n",
       "      <th>307506</th>\n",
       "      <td>307506</td>\n",
       "      <td>307510</td>\n",
       "      <td>456255</td>\n",
       "      <td>0.0</td>\n",
       "      <td>1</td>\n",
       "      <td>0</td>\n",
       "      <td>1</td>\n",
       "      <td>0</td>\n",
       "      <td>157500.0</td>\n",
       "      <td>675000.0</td>\n",
       "      <td>...</td>\n",
       "      <td>NaN</td>\n",
       "      <td>NaN</td>\n",
       "      <td>NaN</td>\n",
       "      <td>NaN</td>\n",
       "      <td>NaN</td>\n",
       "      <td>NaN</td>\n",
       "      <td>NaN</td>\n",
       "      <td>NaN</td>\n",
       "      <td>NaN</td>\n",
       "      <td>NaN</td>\n",
       "    </tr>\n",
       "  </tbody>\n",
       "</table>\n",
       "<p>307507 rows × 800 columns</p>\n",
       "</div>"
      ],
      "text/plain": [
       "        Unnamed: 0   index  SK_ID_CURR  TARGET  CODE_GENDER  FLAG_OWN_CAR  \\\n",
       "0                0       0      100002     1.0            0             0   \n",
       "1                1       1      100003     0.0            1             0   \n",
       "2                2       2      100004     0.0            0             1   \n",
       "3                3       3      100006     0.0            1             0   \n",
       "4                4       4      100007     0.0            0             0   \n",
       "...            ...     ...         ...     ...          ...           ...   \n",
       "307502      307502  307506      456251     0.0            0             0   \n",
       "307503      307503  307507      456252     0.0            1             0   \n",
       "307504      307504  307508      456253     0.0            1             0   \n",
       "307505      307505  307509      456254     1.0            1             0   \n",
       "307506      307506  307510      456255     0.0            1             0   \n",
       "\n",
       "        FLAG_OWN_REALTY  CNT_CHILDREN  AMT_INCOME_TOTAL  AMT_CREDIT  ...  \\\n",
       "0                     0             0          202500.0    406597.5  ...   \n",
       "1                     1             0          270000.0   1293502.5  ...   \n",
       "2                     0             0           67500.0    135000.0  ...   \n",
       "3                     0             0          135000.0    312682.5  ...   \n",
       "4                     0             0          121500.0    513000.0  ...   \n",
       "...                 ...           ...               ...         ...  ...   \n",
       "307502                1             0          157500.0    254700.0  ...   \n",
       "307503                0             0           72000.0    269550.0  ...   \n",
       "307504                0             0          153000.0    677664.0  ...   \n",
       "307505                0             0          171000.0    370107.0  ...   \n",
       "307506                1             0          157500.0    675000.0  ...   \n",
       "\n",
       "        CC_NAME_CONTRACT_STATUS_Signed_MAX  \\\n",
       "0                                      NaN   \n",
       "1                                      NaN   \n",
       "2                                      NaN   \n",
       "3                                      0.0   \n",
       "4                                      NaN   \n",
       "...                                    ...   \n",
       "307502                                 NaN   \n",
       "307503                                 NaN   \n",
       "307504                                 NaN   \n",
       "307505                                 NaN   \n",
       "307506                                 NaN   \n",
       "\n",
       "        CC_NAME_CONTRACT_STATUS_Signed_MEAN  \\\n",
       "0                                       NaN   \n",
       "1                                       NaN   \n",
       "2                                       NaN   \n",
       "3                                       0.0   \n",
       "4                                       NaN   \n",
       "...                                     ...   \n",
       "307502                                  NaN   \n",
       "307503                                  NaN   \n",
       "307504                                  NaN   \n",
       "307505                                  NaN   \n",
       "307506                                  NaN   \n",
       "\n",
       "        CC_NAME_CONTRACT_STATUS_Signed_SUM  \\\n",
       "0                                      NaN   \n",
       "1                                      NaN   \n",
       "2                                      NaN   \n",
       "3                                      0.0   \n",
       "4                                      NaN   \n",
       "...                                    ...   \n",
       "307502                                 NaN   \n",
       "307503                                 NaN   \n",
       "307504                                 NaN   \n",
       "307505                                 NaN   \n",
       "307506                                 NaN   \n",
       "\n",
       "        CC_NAME_CONTRACT_STATUS_Signed_VAR  CC_NAME_CONTRACT_STATUS_nan_MIN  \\\n",
       "0                                      NaN                              NaN   \n",
       "1                                      NaN                              NaN   \n",
       "2                                      NaN                              NaN   \n",
       "3                                      0.0                              0.0   \n",
       "4                                      NaN                              NaN   \n",
       "...                                    ...                              ...   \n",
       "307502                                 NaN                              NaN   \n",
       "307503                                 NaN                              NaN   \n",
       "307504                                 NaN                              NaN   \n",
       "307505                                 NaN                              NaN   \n",
       "307506                                 NaN                              NaN   \n",
       "\n",
       "        CC_NAME_CONTRACT_STATUS_nan_MAX  CC_NAME_CONTRACT_STATUS_nan_MEAN  \\\n",
       "0                                   NaN                               NaN   \n",
       "1                                   NaN                               NaN   \n",
       "2                                   NaN                               NaN   \n",
       "3                                   0.0                               0.0   \n",
       "4                                   NaN                               NaN   \n",
       "...                                 ...                               ...   \n",
       "307502                              NaN                               NaN   \n",
       "307503                              NaN                               NaN   \n",
       "307504                              NaN                               NaN   \n",
       "307505                              NaN                               NaN   \n",
       "307506                              NaN                               NaN   \n",
       "\n",
       "        CC_NAME_CONTRACT_STATUS_nan_SUM  CC_NAME_CONTRACT_STATUS_nan_VAR  \\\n",
       "0                                   NaN                              NaN   \n",
       "1                                   NaN                              NaN   \n",
       "2                                   NaN                              NaN   \n",
       "3                                   0.0                              0.0   \n",
       "4                                   NaN                              NaN   \n",
       "...                                 ...                              ...   \n",
       "307502                              NaN                              NaN   \n",
       "307503                              NaN                              NaN   \n",
       "307504                              NaN                              NaN   \n",
       "307505                              NaN                              NaN   \n",
       "307506                              NaN                              NaN   \n",
       "\n",
       "        CC_COUNT  \n",
       "0            NaN  \n",
       "1            NaN  \n",
       "2            NaN  \n",
       "3            6.0  \n",
       "4            NaN  \n",
       "...          ...  \n",
       "307502       NaN  \n",
       "307503       NaN  \n",
       "307504       NaN  \n",
       "307505       NaN  \n",
       "307506       NaN  \n",
       "\n",
       "[307507 rows x 800 columns]"
      ]
     },
     "execution_count": 2,
     "metadata": {},
     "output_type": "execute_result"
    }
   ],
   "source": [
    "data = pd.read_csv(\"data/train_df.csv\")\n",
    "data"
   ]
  },
  {
   "cell_type": "markdown",
   "metadata": {},
   "source": [
    "# Isolation de la cible et séparation des données (train, test)"
   ]
  },
  {
   "cell_type": "code",
   "execution_count": 3,
   "metadata": {},
   "outputs": [
    {
     "data": {
      "text/plain": [
       "20"
      ]
     },
     "execution_count": 3,
     "metadata": {},
     "output_type": "execute_result"
    }
   ],
   "source": [
    "X = data.drop(columns=['TARGET','SK_ID_CURR','index', \"Unnamed: 0\"])\n",
    "y = data[\"TARGET\"]\n",
    "\n",
    "del data\n",
    "gc.collect()"
   ]
  },
  {
   "cell_type": "code",
   "execution_count": 4,
   "metadata": {},
   "outputs": [
    {
     "name": "stdout",
     "output_type": "stream",
     "text": [
      "X_train : (246005, 796)\n",
      "X_test : (61502, 796)\n",
      "y_train : (246005,)\n",
      "y_test : (61502,)\n"
     ]
    },
    {
     "data": {
      "text/plain": [
       "20"
      ]
     },
     "execution_count": 4,
     "metadata": {},
     "output_type": "execute_result"
    }
   ],
   "source": [
    "X_train, X_test, y_train, y_test = model_selection.train_test_split(X, y, test_size=0.2, random_state=123)\n",
    "\n",
    "print(f\"X_train : {X_train.shape}\")\n",
    "print(f\"X_test : {X_test.shape}\")\n",
    "print(f\"y_train : {y_train.shape}\")\n",
    "print(f\"y_test : {y_test.shape}\")\n",
    "\n",
    "del X, y\n",
    "gc.collect()"
   ]
  },
  {
   "cell_type": "markdown",
   "metadata": {},
   "source": [
    "# Etablissement d'une baseline"
   ]
  },
  {
   "cell_type": "code",
   "execution_count": 5,
   "metadata": {},
   "outputs": [
    {
     "data": {
      "text/plain": [
       "DummyClassifier(random_state=123, strategy='stratified')"
      ]
     },
     "execution_count": 5,
     "metadata": {},
     "output_type": "execute_result"
    }
   ],
   "source": [
    "# dummy classifier \n",
    "dummy_classifier = dummy.DummyClassifier(strategy=\"stratified\", random_state=123)\n",
    "dummy_classifier.fit(X_train,y_train)"
   ]
  },
  {
   "cell_type": "code",
   "execution_count": 6,
   "metadata": {},
   "outputs": [
    {
     "name": "stdout",
     "output_type": "stream",
     "text": [
      "Baseline AUCPR par dummy classifier  : 0.11880592645594451\n"
     ]
    },
    {
     "data": {
      "text/plain": [
       "40"
      ]
     },
     "execution_count": 6,
     "metadata": {},
     "output_type": "execute_result"
    }
   ],
   "source": [
    "# performances\n",
    "probas_pred = dummy_classifier.predict_proba(X_test)[:, 1]\n",
    "p, r, _ = metrics.precision_recall_curve(y_test, probas_pred)\n",
    "baseline = metrics.auc(r,p)\n",
    "print(f\"Baseline AUCPR par dummy classifier  : {baseline}\")\n",
    "\n",
    "del dummy_classifier\n",
    "gc.collect()"
   ]
  },
  {
   "cell_type": "markdown",
   "metadata": {},
   "source": [
    "# Entraînement d'un classifieur LightGBM sur le train set sur 5 folds (5 classifieurs)"
   ]
  },
  {
   "cell_type": "code",
   "execution_count": 7,
   "metadata": {},
   "outputs": [],
   "source": [
    "# rectification des noms des features pour le classifieur LGBM\n",
    "\n",
    "def replace_name(name):\n",
    "    for c in [\"[\",\"]\",\",\",\"{\",\"}\",'\"',\":\",\" \"]:\n",
    "        if c in name :\n",
    "            name = name.replace(c,\"_\")\n",
    "    return name\n",
    "            \n",
    "features = list(map(replace_name, X_train.columns))\n",
    "X_train.columns = features\n",
    "X_test.columns = features"
   ]
  },
  {
   "cell_type": "code",
   "execution_count": 8,
   "metadata": {},
   "outputs": [],
   "source": [
    "# métrique LGBM personnalisée utilisant l'aire sous la courbe precision-recall (AUCPR)\n",
    "\n",
    "def f_aucpr(y_true, probas_pred):\n",
    "    \n",
    "    p, r, _ = metrics.precision_recall_curve(y_true, probas_pred)\n",
    "    score = metrics.auc(r,p)\n",
    "    return \"AUCPR\", score, True"
   ]
  },
  {
   "cell_type": "code",
   "execution_count": 9,
   "metadata": {},
   "outputs": [
    {
     "name": "stdout",
     "output_type": "stream",
     "text": [
      "Training until validation scores don't improve for 200 rounds\n",
      "[200]\ttraining's binary_logloss: 0.236089\ttraining's AUCPR: 0.320348\tvalid_1's binary_logloss: 0.242294\tvalid_1's AUCPR: 0.274319\n",
      "[400]\ttraining's binary_logloss: 0.225522\ttraining's AUCPR: 0.360671\tvalid_1's binary_logloss: 0.237298\tvalid_1's AUCPR: 0.286188\n",
      "[600]\ttraining's binary_logloss: 0.219462\ttraining's AUCPR: 0.390755\tvalid_1's binary_logloss: 0.235911\tvalid_1's AUCPR: 0.289964\n",
      "[800]\ttraining's binary_logloss: 0.215157\ttraining's AUCPR: 0.413482\tvalid_1's binary_logloss: 0.235216\tvalid_1's AUCPR: 0.2923\n",
      "[1000]\ttraining's binary_logloss: 0.211244\ttraining's AUCPR: 0.435414\tvalid_1's binary_logloss: 0.234882\tvalid_1's AUCPR: 0.292413\n",
      "[1200]\ttraining's binary_logloss: 0.20734\ttraining's AUCPR: 0.458104\tvalid_1's binary_logloss: 0.234713\tvalid_1's AUCPR: 0.292715\n",
      "[1400]\ttraining's binary_logloss: 0.203774\ttraining's AUCPR: 0.47958\tvalid_1's binary_logloss: 0.234603\tvalid_1's AUCPR: 0.292641\n",
      "Early stopping, best iteration is:\n",
      "[1273]\ttraining's binary_logloss: 0.206055\ttraining's AUCPR: 0.465788\tvalid_1's binary_logloss: 0.234648\tvalid_1's AUCPR: 0.292799\n",
      "Fold  1 AUCPR : 0.292799\n",
      "Training until validation scores don't improve for 200 rounds\n",
      "[200]\ttraining's binary_logloss: 0.235472\ttraining's AUCPR: 0.324201\tvalid_1's binary_logloss: 0.244144\tvalid_1's AUCPR: 0.261359\n",
      "[400]\ttraining's binary_logloss: 0.224663\ttraining's AUCPR: 0.366743\tvalid_1's binary_logloss: 0.239909\tvalid_1's AUCPR: 0.269781\n",
      "[600]\ttraining's binary_logloss: 0.218462\ttraining's AUCPR: 0.397137\tvalid_1's binary_logloss: 0.238459\tvalid_1's AUCPR: 0.274406\n",
      "[800]\ttraining's binary_logloss: 0.213467\ttraining's AUCPR: 0.423916\tvalid_1's binary_logloss: 0.237682\tvalid_1's AUCPR: 0.27683\n",
      "[1000]\ttraining's binary_logloss: 0.209084\ttraining's AUCPR: 0.448631\tvalid_1's binary_logloss: 0.237273\tvalid_1's AUCPR: 0.277967\n",
      "[1200]\ttraining's binary_logloss: 0.205129\ttraining's AUCPR: 0.47198\tvalid_1's binary_logloss: 0.237103\tvalid_1's AUCPR: 0.278234\n",
      "[1400]\ttraining's binary_logloss: 0.201552\ttraining's AUCPR: 0.493888\tvalid_1's binary_logloss: 0.236985\tvalid_1's AUCPR: 0.278111\n",
      "Early stopping, best iteration is:\n",
      "[1310]\ttraining's binary_logloss: 0.203054\ttraining's AUCPR: 0.484364\tvalid_1's binary_logloss: 0.237005\tvalid_1's AUCPR: 0.278514\n",
      "Fold  2 AUCPR : 0.278514\n",
      "Training until validation scores don't improve for 200 rounds\n",
      "[200]\ttraining's binary_logloss: 0.235203\ttraining's AUCPR: 0.325222\tvalid_1's binary_logloss: 0.244838\tvalid_1's AUCPR: 0.259816\n",
      "[400]\ttraining's binary_logloss: 0.224401\ttraining's AUCPR: 0.366884\tvalid_1's binary_logloss: 0.240541\tvalid_1's AUCPR: 0.270823\n",
      "[600]\ttraining's binary_logloss: 0.218212\ttraining's AUCPR: 0.397624\tvalid_1's binary_logloss: 0.239177\tvalid_1's AUCPR: 0.276184\n",
      "[800]\ttraining's binary_logloss: 0.213483\ttraining's AUCPR: 0.42203\tvalid_1's binary_logloss: 0.238553\tvalid_1's AUCPR: 0.278423\n",
      "[1000]\ttraining's binary_logloss: 0.209116\ttraining's AUCPR: 0.446558\tvalid_1's binary_logloss: 0.238292\tvalid_1's AUCPR: 0.279549\n",
      "[1200]\ttraining's binary_logloss: 0.205215\ttraining's AUCPR: 0.469314\tvalid_1's binary_logloss: 0.238047\tvalid_1's AUCPR: 0.280851\n",
      "[1400]\ttraining's binary_logloss: 0.201439\ttraining's AUCPR: 0.492001\tvalid_1's binary_logloss: 0.238006\tvalid_1's AUCPR: 0.281429\n",
      "[1600]\ttraining's binary_logloss: 0.198027\ttraining's AUCPR: 0.51279\tvalid_1's binary_logloss: 0.237908\tvalid_1's AUCPR: 0.281857\n",
      "[1800]\ttraining's binary_logloss: 0.194749\ttraining's AUCPR: 0.532937\tvalid_1's binary_logloss: 0.237972\tvalid_1's AUCPR: 0.281436\n",
      "Early stopping, best iteration is:\n",
      "[1624]\ttraining's binary_logloss: 0.197607\ttraining's AUCPR: 0.515326\tvalid_1's binary_logloss: 0.237894\tvalid_1's AUCPR: 0.282179\n",
      "Fold  3 AUCPR : 0.282179\n",
      "Training until validation scores don't improve for 200 rounds\n",
      "[200]\ttraining's binary_logloss: 0.235481\ttraining's AUCPR: 0.324387\tvalid_1's binary_logloss: 0.244206\tvalid_1's AUCPR: 0.260469\n",
      "[400]\ttraining's binary_logloss: 0.224785\ttraining's AUCPR: 0.367077\tvalid_1's binary_logloss: 0.239475\tvalid_1's AUCPR: 0.271984\n",
      "[600]\ttraining's binary_logloss: 0.218777\ttraining's AUCPR: 0.396113\tvalid_1's binary_logloss: 0.237909\tvalid_1's AUCPR: 0.27675\n",
      "[800]\ttraining's binary_logloss: 0.214025\ttraining's AUCPR: 0.421259\tvalid_1's binary_logloss: 0.237067\tvalid_1's AUCPR: 0.279728\n",
      "[1000]\ttraining's binary_logloss: 0.209902\ttraining's AUCPR: 0.444754\tvalid_1's binary_logloss: 0.236586\tvalid_1's AUCPR: 0.281317\n",
      "[1200]\ttraining's binary_logloss: 0.20607\ttraining's AUCPR: 0.467302\tvalid_1's binary_logloss: 0.236291\tvalid_1's AUCPR: 0.281906\n",
      "[1400]\ttraining's binary_logloss: 0.202343\ttraining's AUCPR: 0.489865\tvalid_1's binary_logloss: 0.23617\tvalid_1's AUCPR: 0.282032\n",
      "[1600]\ttraining's binary_logloss: 0.198747\ttraining's AUCPR: 0.51187\tvalid_1's binary_logloss: 0.236007\tvalid_1's AUCPR: 0.282614\n",
      "[1800]\ttraining's binary_logloss: 0.195465\ttraining's AUCPR: 0.532387\tvalid_1's binary_logloss: 0.235984\tvalid_1's AUCPR: 0.282935\n",
      "[2000]\ttraining's binary_logloss: 0.192184\ttraining's AUCPR: 0.553251\tvalid_1's binary_logloss: 0.235942\tvalid_1's AUCPR: 0.283435\n",
      "Early stopping, best iteration is:\n",
      "[1884]\ttraining's binary_logloss: 0.194069\ttraining's AUCPR: 0.541257\tvalid_1's binary_logloss: 0.235915\tvalid_1's AUCPR: 0.283461\n",
      "Fold  4 AUCPR : 0.283461\n",
      "Training until validation scores don't improve for 200 rounds\n",
      "[200]\ttraining's binary_logloss: 0.23539\ttraining's AUCPR: 0.323674\tvalid_1's binary_logloss: 0.243943\tvalid_1's AUCPR: 0.263121\n",
      "[400]\ttraining's binary_logloss: 0.224862\ttraining's AUCPR: 0.36422\tvalid_1's binary_logloss: 0.239443\tvalid_1's AUCPR: 0.273322\n",
      "[600]\ttraining's binary_logloss: 0.218963\ttraining's AUCPR: 0.392965\tvalid_1's binary_logloss: 0.238145\tvalid_1's AUCPR: 0.277058\n",
      "[800]\ttraining's binary_logloss: 0.214272\ttraining's AUCPR: 0.41768\tvalid_1's binary_logloss: 0.237487\tvalid_1's AUCPR: 0.278821\n",
      "[1000]\ttraining's binary_logloss: 0.210215\ttraining's AUCPR: 0.440572\tvalid_1's binary_logloss: 0.237095\tvalid_1's AUCPR: 0.279772\n",
      "[1200]\ttraining's binary_logloss: 0.20631\ttraining's AUCPR: 0.462964\tvalid_1's binary_logloss: 0.236872\tvalid_1's AUCPR: 0.280745\n",
      "[1400]\ttraining's binary_logloss: 0.202836\ttraining's AUCPR: 0.483779\tvalid_1's binary_logloss: 0.236743\tvalid_1's AUCPR: 0.281356\n",
      "[1600]\ttraining's binary_logloss: 0.199351\ttraining's AUCPR: 0.505352\tvalid_1's binary_logloss: 0.236645\tvalid_1's AUCPR: 0.281844\n",
      "[1800]\ttraining's binary_logloss: 0.195964\ttraining's AUCPR: 0.526516\tvalid_1's binary_logloss: 0.236547\tvalid_1's AUCPR: 0.282349\n",
      "[2000]\ttraining's binary_logloss: 0.192607\ttraining's AUCPR: 0.547728\tvalid_1's binary_logloss: 0.236554\tvalid_1's AUCPR: 0.282419\n",
      "Early stopping, best iteration is:\n",
      "[1852]\ttraining's binary_logloss: 0.195196\ttraining's AUCPR: 0.531435\tvalid_1's binary_logloss: 0.236526\tvalid_1's AUCPR: 0.282273\n",
      "Fold  5 AUCPR : 0.282273\n"
     ]
    }
   ],
   "source": [
    "# modèle de cross validation pour entraînement par fold\n",
    "folds = model_selection.StratifiedKFold(n_splits= 5, shuffle=True, random_state=123)\n",
    "\n",
    "# création des dataframes pour stocker les résultats\n",
    "oof_preds = np.zeros(X_train.shape[0])\n",
    "sub_preds = np.zeros(X_test.shape[0])\n",
    "feature_importance_df = pd.DataFrame()\n",
    "\n",
    "for n_fold, (train_idx, valid_idx) in enumerate(folds.split(X_train, y_train)):\n",
    "    train_x, train_y = X_train.iloc[train_idx], y_train.iloc[train_idx]\n",
    "    valid_x, valid_y = X_train.iloc[valid_idx], y_train.iloc[valid_idx]\n",
    "\n",
    "    # paramètres déterminés par optimisation Bayésienne\n",
    "    clf = lgb.LGBMClassifier(\n",
    "        n_jobs=-1,\n",
    "        n_estimators=10000,\n",
    "        learning_rate=0.02,\n",
    "        num_leaves=37,\n",
    "        colsample_bytree=0.26424255740815,\n",
    "        subsample=0.9222047021355166,\n",
    "        max_depth=6,\n",
    "        reg_alpha=0.8495823622837118,\n",
    "        reg_lambda=0.7247308695357746,\n",
    "        min_split_gain=0.05365093112258974,\n",
    "        min_child_weight=28.91981182288273,\n",
    "        silent=-1,\n",
    "        verbose=-1,\n",
    "        random_state=123)\n",
    "    \n",
    "    \n",
    "    # entraînement de chaque fold\n",
    "    clf.fit(train_x, train_y, eval_set=[(train_x, train_y), (valid_x, valid_y)], \n",
    "        eval_metric=f_aucpr, verbose= 200, early_stopping_rounds= 200)\n",
    "\n",
    "    # stockage des prédictions\n",
    "    oof_preds[valid_idx] = clf.predict_proba(valid_x, num_iteration=clf.best_iteration_)[:, 1]\n",
    "    sub_preds += clf.predict_proba(X_test, num_iteration=clf.best_iteration_)[:, 1] / folds.n_splits\n",
    "    \n",
    "    # stockage des features importances\n",
    "    fold_importance_df = pd.DataFrame()\n",
    "    fold_importance_df[\"feature\"] = X_train.columns\n",
    "    fold_importance_df[\"importance\"] = clf.feature_importances_\n",
    "    fold_importance_df[\"fold\"] = n_fold + 1\n",
    "    feature_importance_df = pd.concat([feature_importance_df, fold_importance_df], axis=0)\n",
    "    _, score, _ = f_aucpr(valid_y, oof_preds[valid_idx])\n",
    "    print('Fold %2d AUCPR : %.6f' % (n_fold + 1, score))\n",
    "    del clf, train_x, train_y, valid_x, valid_y\n",
    "    gc.collect()\n"
   ]
  },
  {
   "cell_type": "code",
   "execution_count": 10,
   "metadata": {},
   "outputs": [
    {
     "name": "stdout",
     "output_type": "stream",
     "text": [
      "AUCPR sur train set  : 0.2837192207788113\n",
      "AUCPR sur test set : 0.2942263066629084\n"
     ]
    }
   ],
   "source": [
    "# affichage des performances\n",
    "\n",
    "_, train_score, _ = f_aucpr(y_train, oof_preds)\n",
    "_, test_score, _ = f_aucpr(y_test, sub_preds)\n",
    "print(f\"AUCPR sur train set  : {train_score}\")\n",
    "print(f\"AUCPR sur test set : {test_score}\")"
   ]
  },
  {
   "cell_type": "code",
   "execution_count": 11,
   "metadata": {},
   "outputs": [
    {
     "data": {
      "image/png": "[encoded data removed]",
      "text/plain": [
       "<Figure size 576x720 with 1 Axes>"
      ]
     },
     "metadata": {
      "needs_background": "light"
     },
     "output_type": "display_data"
    }
   ],
   "source": [
    "# affichage de l'importance des features\n",
    "\n",
    "cols = feature_importance_df[[\"feature\", \"importance\"]].groupby(\"feature\").mean()\\\n",
    "                    .sort_values(by=\"importance\", ascending=False)[:40].index\n",
    "best_features = feature_importance_df.loc[feature_importance_df.feature.isin(cols)]\n",
    "plt.figure(figsize=(8, 10))\n",
    "sns.barplot(x=\"importance\", y=\"feature\", data=best_features.sort_values(by=\"importance\", ascending=False))\n",
    "plt.title('LightGBM Features (avg over folds)')\n",
    "plt.tight_layout()\n",
    "plt.savefig('img/lgbm_importances01.png')"
   ]
  },
  {
   "cell_type": "markdown",
   "metadata": {},
   "source": [
    "# Entraînement d'un LGBM Classifier unique sur le train set"
   ]
  },
  {
   "cell_type": "code",
   "execution_count": 12,
   "metadata": {},
   "outputs": [],
   "source": [
    "# création d'un set de validation\n",
    "\n",
    "train_x, valid_x, train_y, valid_y = model_selection.train_test_split(X_train, y_train, test_size=0.2, \n",
    "                                                                      random_state=123)"
   ]
  },
  {
   "cell_type": "code",
   "execution_count": 13,
   "metadata": {},
   "outputs": [
    {
     "name": "stdout",
     "output_type": "stream",
     "text": [
      "Training until validation scores don't improve for 200 rounds\n",
      "[200]\ttraining's binary_logloss: 0.234691\ttraining's AUCPR: 0.326477\tvalid_1's binary_logloss: 0.246763\tvalid_1's AUCPR: 0.256467\n",
      "[400]\ttraining's binary_logloss: 0.224014\ttraining's AUCPR: 0.368791\tvalid_1's binary_logloss: 0.242715\tvalid_1's AUCPR: 0.265674\n",
      "[600]\ttraining's binary_logloss: 0.217885\ttraining's AUCPR: 0.398647\tvalid_1's binary_logloss: 0.241398\tvalid_1's AUCPR: 0.269935\n",
      "[800]\ttraining's binary_logloss: 0.213375\ttraining's AUCPR: 0.42225\tvalid_1's binary_logloss: 0.240738\tvalid_1's AUCPR: 0.271937\n",
      "[1000]\ttraining's binary_logloss: 0.209355\ttraining's AUCPR: 0.444708\tvalid_1's binary_logloss: 0.240406\tvalid_1's AUCPR: 0.272885\n",
      "[1200]\ttraining's binary_logloss: 0.205574\ttraining's AUCPR: 0.466682\tvalid_1's binary_logloss: 0.240182\tvalid_1's AUCPR: 0.273272\n",
      "[1400]\ttraining's binary_logloss: 0.20227\ttraining's AUCPR: 0.486154\tvalid_1's binary_logloss: 0.240108\tvalid_1's AUCPR: 0.27344\n",
      "[1600]\ttraining's binary_logloss: 0.19868\ttraining's AUCPR: 0.508077\tvalid_1's binary_logloss: 0.240049\tvalid_1's AUCPR: 0.273226\n",
      "Early stopping, best iteration is:\n",
      "[1525]\ttraining's binary_logloss: 0.199969\ttraining's AUCPR: 0.500007\tvalid_1's binary_logloss: 0.240028\tvalid_1's AUCPR: 0.273597\n"
     ]
    },
    {
     "data": {
      "text/plain": [
       "LGBMClassifier(colsample_bytree=0.26424255740815, learning_rate=0.02,\n",
       "               max_depth=6, min_child_weight=28.91981182288273,\n",
       "               min_split_gain=0.05365093112258974, n_estimators=10000,\n",
       "               num_leaves=37, random_state=123, reg_alpha=0.8495823622837118,\n",
       "               reg_lambda=0.7247308695357746, silent=-1,\n",
       "               subsample=0.9222047021355166, verbose=-1)"
      ]
     },
     "execution_count": 13,
     "metadata": {},
     "output_type": "execute_result"
    }
   ],
   "source": [
    "# modèle avec les mêmes paramètres\n",
    "\n",
    "clf = lgb.LGBMClassifier(\n",
    "        n_jobs=-1,\n",
    "        n_estimators=10000,\n",
    "        learning_rate=0.02,\n",
    "        num_leaves=37,\n",
    "        colsample_bytree=0.26424255740815,\n",
    "        subsample=0.9222047021355166,\n",
    "        max_depth=6,\n",
    "        reg_alpha=0.8495823622837118,\n",
    "        reg_lambda=0.7247308695357746,\n",
    "        min_split_gain=0.05365093112258974,\n",
    "        min_child_weight=28.91981182288273,\n",
    "        silent=-1,\n",
    "        verbose=-1,\n",
    "        random_state=123)\n",
    "\n",
    "# entraînement\n",
    "clf.fit(train_x, train_y, eval_set=[(train_x, train_y), (valid_x, valid_y)], \n",
    "    eval_metric=f_aucpr, verbose= 200, early_stopping_rounds= 200)"
   ]
  },
  {
   "cell_type": "code",
   "execution_count": 14,
   "metadata": {},
   "outputs": [
    {
     "data": {
      "text/plain": [
       "('AUCPR', 0.29179275291602547, True)"
      ]
     },
     "execution_count": 14,
     "metadata": {},
     "output_type": "execute_result"
    }
   ],
   "source": [
    "# performances\n",
    "\n",
    "y_pred = clf.predict_proba(X_test, num_iteration=clf.best_iteration_)[:, 1]\n",
    "f_aucpr(y_test, y_pred)"
   ]
  },
  {
   "cell_type": "code",
   "execution_count": 15,
   "metadata": {},
   "outputs": [
    {
     "data": {
      "image/png": "[encoded data removed]",
      "text/plain": [
       "<Figure size 576x720 with 1 Axes>"
      ]
     },
     "metadata": {
      "needs_background": "light"
     },
     "output_type": "display_data"
    }
   ],
   "source": [
    "# features importances\n",
    "\n",
    "feature_importance_df = pd.DataFrame()\n",
    "feature_importance_df[\"feature\"] = X_train.columns\n",
    "feature_importance_df[\"importance\"] = clf.feature_importances_\n",
    "best_features_idx = feature_importance_df.sort_values(by=\"importance\", ascending=False)[:40].index\n",
    "plt.figure(figsize=(8, 10))\n",
    "sns.barplot(x=\"importance\", y=\"feature\", data=feature_importance_df.iloc[best_features_idx].sort_values(by=\"importance\", ascending=False))\n",
    "plt.title('LightGBM Features')\n",
    "plt.tight_layout()"
   ]
  },
  {
   "cell_type": "markdown",
   "metadata": {},
   "source": [
    "Les performances sont à peine moins bonnes, je garde donc ce principe d'un classifieur unique.\n"
   ]
  },
  {
   "cell_type": "code",
   "execution_count": 16,
   "metadata": {},
   "outputs": [
    {
     "data": {
      "text/plain": [
       "6"
      ]
     },
     "execution_count": 16,
     "metadata": {},
     "output_type": "execute_result"
    }
   ],
   "source": [
    "round(5.7)"
   ]
  },
  {
   "cell_type": "code",
   "execution_count": null,
   "metadata": {},
   "outputs": [],
   "source": []
  }
 ],
 "metadata": {
  "kernelspec": {
   "display_name": "Python 3",
   "language": "python",
   "name": "python3"
  },
  "language_info": {
   "codemirror_mode": {
    "name": "ipython",
    "version": 3
   },
   "file_extension": ".py",
   "mimetype": "text/x-python",
   "name": "python",
   "nbconvert_exporter": "python",
   "pygments_lexer": "ipython3",
   "version": "3.8.5"
  }
 },
 "nbformat": 4,
 "nbformat_minor": 4
}
