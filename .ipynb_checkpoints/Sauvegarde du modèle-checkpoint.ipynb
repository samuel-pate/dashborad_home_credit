{
 "cells": [
  {
   "cell_type": "code",
   "execution_count": 1,
   "metadata": {},
   "outputs": [
    {
     "name": "stdout",
     "output_type": "stream",
     "text": [
      "1.1.3\n",
      "0.11.0\n",
      "3.3.2\n",
      "0.23.2\n"
     ]
    }
   ],
   "source": [
    "import pandas as pd\n",
    "import numpy as np\n",
    "import gc\n",
    "import lightgbm as lgb\n",
    "import seaborn as sns\n",
    "import matplotlib\n",
    "import matplotlib.pyplot as plt\n",
    "import sklearn\n",
    "from sklearn import model_selection, metrics\n",
    "import pickle\n",
    "\n",
    "print(pd.__version__) #1.1.3\n",
    "print(sns.__version__) #0.11.0\n",
    "print(matplotlib.__version__) # 3.3.2\n",
    "print(sklearn.__version__) # 0.23.2"
   ]
  },
  {
   "cell_type": "code",
   "execution_count": null,
   "metadata": {
    "scrolled": true
   },
   "outputs": [],
   "source": [
    "# récupération des données\n",
    "\n",
    "data = pd.read_csv(\"data/train_resampled.csv\")\n",
    "\n",
    "cat_features = pickle.load(open(\"pickle_cat_features.pkl\", \"rb\"))\n",
    "\n",
    "X = data.drop(columns=['TARGET','Unnamed: 0'])\n",
    "y = data[\"TARGET\"]\n",
    "\n",
    "del data\n",
    "gc.collect()"
   ]
  },
  {
   "cell_type": "code",
   "execution_count": null,
   "metadata": {},
   "outputs": [],
   "source": [
    "# rectification des noms des features pour le classifieur LGBM\n",
    "\n",
    "def replace_name(name):\n",
    "    for c in [\"[\",\"]\",\",\",\"{\",\"}\",'\"',\":\",\" \"]:\n",
    "        if c in name :\n",
    "            name = name.replace(c,\"_\")\n",
    "    return name\n",
    "            \n",
    "features = list(map(replace_name, X.columns))\n",
    "X.columns = features"
   ]
  },
  {
   "cell_type": "code",
   "execution_count": null,
   "metadata": {},
   "outputs": [],
   "source": [
    "# métrique F_beta\n",
    "\n",
    "BETA = 2\n",
    "\n",
    "def f_beta(y_true, probas_pred):\n",
    "    y_pred = np.vectorize(lambda x : 0 if x<0.5 else 1)(probas_pred)\n",
    "    score = metrics.fbeta_score(y_true, y_pred, beta=BETA)\n",
    "    return \"F_beta\", score, True"
   ]
  },
  {
   "cell_type": "code",
   "execution_count": null,
   "metadata": {},
   "outputs": [],
   "source": [
    "# séparation train et valid set\n",
    "\n",
    "train_x, valid_x, train_y, valid_y = model_selection.train_test_split(X, y, test_size=0.2, \n",
    "                                                                      random_state=123)\n",
    "del X, y\n",
    "gc.collect()"
   ]
  },
  {
   "cell_type": "code",
   "execution_count": null,
   "metadata": {},
   "outputs": [],
   "source": [
    "# entaînement du modèle\n",
    "\n",
    "clf = lgb.LGBMClassifier(\n",
    "        n_jobs=-1,\n",
    "        n_estimators=10000,\n",
    "        learning_rate=0.01604238736764179,\n",
    "        num_leaves=39,\n",
    "        colsample_bytree=0.18704675203879897,\n",
    "        subsample=0.9261485670593478,\n",
    "        max_depth=6,\n",
    "        reg_alpha=0.8470633083206642,\n",
    "        reg_lambda=0.5740182739981458,\n",
    "        min_split_gain=0.0848793956471949,\n",
    "        min_child_weight=31.190087127061712,\n",
    "        silent=-1,\n",
    "        verbose=-1,\n",
    "        random_state=123,\n",
    "        categorical_feature=list(np.where(train_x.columns.isin(cat_features))[0]))\n",
    "\n",
    "clf.fit(train_x, train_y, eval_set=[(train_x, train_y), (valid_x, valid_y)], \n",
    "    eval_metric=f_beta, verbose= 200, early_stopping_rounds= 200)"
   ]
  },
  {
   "cell_type": "code",
   "execution_count": null,
   "metadata": {},
   "outputs": [],
   "source": [
    "# features importances\n",
    "\n",
    "feature_importance_df = pd.DataFrame()\n",
    "feature_importance_df[\"feature\"] = train_x.columns\n",
    "feature_importance_df[\"importance\"] = clf.feature_importances_\n",
    "best_features_idx = feature_importance_df.sort_values(by=\"importance\", ascending=False)[:40].index\n",
    "plt.figure(figsize=(8, 10))\n",
    "sns.barplot(x=\"importance\", y=\"feature\", data=feature_importance_df.iloc[best_features_idx].sort_values(by=\"importance\", ascending=False))\n",
    "plt.title('LightGBM Features')\n",
    "plt.tight_layout()\n",
    "plt.savefig('img/lgbm_importances02.png')"
   ]
  },
  {
   "cell_type": "code",
   "execution_count": null,
   "metadata": {},
   "outputs": [],
   "source": [
    "# enregistrement du modèle\n",
    "pickle.dump(clf, open(\"pickle_lgbm_classifier.pkl\", \"wb\"))"
   ]
  },
  {
   "cell_type": "code",
   "execution_count": null,
   "metadata": {},
   "outputs": [],
   "source": []
  }
 ],
 "metadata": {
  "kernelspec": {
   "display_name": "Python 3",
   "language": "python",
   "name": "python3"
  },
  "language_info": {
   "codemirror_mode": {
    "name": "ipython",
    "version": 3
   },
   "file_extension": ".py",
   "mimetype": "text/x-python",
   "name": "python",
   "nbconvert_exporter": "python",
   "pygments_lexer": "ipython3",
   "version": "3.8.5"
  }
 },
 "nbformat": 4,
 "nbformat_minor": 4
}
