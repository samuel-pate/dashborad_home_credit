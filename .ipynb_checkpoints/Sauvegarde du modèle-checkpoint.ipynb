{
 "cells": [
  {
   "cell_type": "code",
   "execution_count": 1,
   "metadata": {},
   "outputs": [
    {
     "name": "stdout",
     "output_type": "stream",
     "text": [
      "1.1.3\n",
      "1.19.4\n",
      "0.11.0\n",
      "3.3.2\n",
      "0.23.2\n"
     ]
    }
   ],
   "source": [
    "import pandas as pd\n",
    "import numpy as np\n",
    "import gc\n",
    "import lightgbm as lgb\n",
    "import seaborn as sns\n",
    "import matplotlib\n",
    "import matplotlib.pyplot as plt\n",
    "import sklearn\n",
    "from sklearn import model_selection, dummy, metrics\n",
    "\n",
    "print(pd.__version__) #1.1.3\n",
    "print(np.__version__) #1.19.4\n",
    "print(sns.__version__) #0.11.0\n",
    "print(matplotlib.__version__) # 3.3.2\n",
    "print(sklearn.__version__) # 0.23.2"
   ]
  },
  {
   "cell_type": "code",
   "execution_count": 2,
   "metadata": {
    "scrolled": true
   },
   "outputs": [
    {
     "data": {
      "text/plain": [
       "0"
      ]
     },
     "execution_count": 2,
     "metadata": {},
     "output_type": "execute_result"
    }
   ],
   "source": [
    "# récupération des données\n",
    "\n",
    "data = pd.read_csv(\"data/train_df.csv\")\n",
    "\n",
    "X = data.drop(columns=['TARGET','SK_ID_CURR','index', \"Unnamed: 0\"])\n",
    "y = data[\"TARGET\"]\n",
    "\n",
    "del data\n",
    "gc.collect()"
   ]
  },
  {
   "cell_type": "code",
   "execution_count": 3,
   "metadata": {},
   "outputs": [],
   "source": [
    "# rectification des noms des features pour le classifieur LGBM\n",
    "\n",
    "def replace_name(name):\n",
    "    for c in [\"[\",\"]\",\",\",\"{\",\"}\",'\"',\":\",\" \"]:\n",
    "        if c in name :\n",
    "            name = name.replace(c,\"_\")\n",
    "    return name\n",
    "            \n",
    "features = list(map(replace_name, X.columns))\n",
    "X.columns = features"
   ]
  },
  {
   "cell_type": "code",
   "execution_count": 4,
   "metadata": {},
   "outputs": [],
   "source": [
    "# métrique LGBM personnalisée utilisant l'aire sous la courbe precision-recall (AUCPR)\n",
    "\n",
    "def f_aucpr(y_true, probas_pred):\n",
    "    \n",
    "    p, r, _ = metrics.precision_recall_curve(y_true, probas_pred)\n",
    "    score = metrics.auc(r,p)\n",
    "    return \"AUCPR\", score, True"
   ]
  },
  {
   "cell_type": "code",
   "execution_count": 5,
   "metadata": {},
   "outputs": [
    {
     "data": {
      "text/plain": [
       "0"
      ]
     },
     "execution_count": 5,
     "metadata": {},
     "output_type": "execute_result"
    }
   ],
   "source": [
    "# Entrainement d'un LGBM Classifier unique sur l'ensemble des données \n",
    "\n",
    "train_x, valid_x, train_y, valid_y = model_selection.train_test_split(X, y, test_size=0.2, \n",
    "                                                                      random_state=123)\n",
    "del X, y\n",
    "gc.collect()"
   ]
  },
  {
   "cell_type": "code",
   "execution_count": null,
   "metadata": {},
   "outputs": [],
   "source": [
    "# modèle entraîné avec les mêmes paramètres\n",
    "\n",
    "clf = lgb.LGBMClassifier(\n",
    "        n_jobs=-1,\n",
    "        n_estimators=10000,\n",
    "        learning_rate=0.01604238736764179,\n",
    "        num_leaves=35,\n",
    "        colsample_bytree=0.5008424936188149,\n",
    "        subsample=0.8715623,\n",
    "        max_depth=7,\n",
    "        reg_alpha=0.45530956234831316,\n",
    "        reg_lambda=0.41291226155010513,\n",
    "        min_split_gain=0.035332365150277316,\n",
    "        min_child_weight=39.39942093978256,\n",
    "        silent=-1,\n",
    "        verbose=-1,\n",
    "        random_state=123)\n",
    "\n",
    "clf.fit(train_x, train_y, eval_set=[(train_x, train_y), (valid_x, valid_y)], \n",
    "    eval_metric=f_aucpr, verbose= 200, early_stopping_rounds= 200)"
   ]
  },
  {
   "cell_type": "code",
   "execution_count": null,
   "metadata": {},
   "outputs": [],
   "source": [
    "# features importances\n",
    "\n",
    "feature_importance_df = pd.DataFrame()\n",
    "feature_importance_df[\"feature\"] = train_x.columns\n",
    "feature_importance_df[\"importance\"] = clf.feature_importances_\n",
    "best_features_idx = feature_importance_df.sort_values(by=\"importance\", ascending=False)[:40].index\n",
    "plt.figure(figsize=(8, 10))\n",
    "sns.barplot(x=\"importance\", y=\"feature\", data=feature_importance_df.iloc[best_features_idx].sort_values(by=\"importance\", ascending=False))\n",
    "plt.title('LightGBM Features')\n",
    "plt.tight_layout()\n",
    "plt.savefig('img/lgbm_importances02.png')"
   ]
  },
  {
   "cell_type": "code",
   "execution_count": null,
   "metadata": {},
   "outputs": [],
   "source": [
    "import pickle\n",
    "\n",
    "pickle.dump(clf, open(\"pickle_lgbm_classifier.pkl\", \"wb\"))"
   ]
  }
 ],
 "metadata": {
  "kernelspec": {
   "display_name": "Python 3",
   "language": "python",
   "name": "python3"
  },
  "language_info": {
   "codemirror_mode": {
    "name": "ipython",
    "version": 3
   },
   "file_extension": ".py",
   "mimetype": "text/x-python",
   "name": "python",
   "nbconvert_exporter": "python",
   "pygments_lexer": "ipython3",
   "version": "3.8.5"
  }
 },
 "nbformat": 4,
 "nbformat_minor": 4
}
